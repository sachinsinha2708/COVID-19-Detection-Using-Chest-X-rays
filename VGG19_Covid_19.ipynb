{
 "cells": [
  {
   "cell_type": "code",
   "execution_count": 1,
   "metadata": {},
   "outputs": [],
   "source": [
    "import numpy as np\n",
    "import keras\n",
    "from keras.models import Sequential\n",
    "from keras.preprocessing.image import img_to_array, load_img\n",
    "from keras.layers import Activation\n",
    "from keras.layers.core import Dense, Flatten\n",
    "from keras.optimizers import Adam\n",
    "from keras.metrics import categorical_crossentropy\n",
    "from keras.preprocessing.image import ImageDataGenerator\n",
    "from keras.layers.normalization import BatchNormalization\n",
    "from keras.layers.convolutional import Conv2D\n",
    "from keras.utils.layer_utils import count_params\n",
    "from sklearn.metrics import confusion_matrix\n",
    "import itertools\n",
    "import matplotlib.pyplot as plt\n",
    "import warnings\n",
    "warnings.simplefilter(action='ignore', category=FutureWarning)\n",
    "#%matplotlib inline"
   ]
  },
  {
   "cell_type": "code",
   "execution_count": 2,
   "metadata": {},
   "outputs": [
    {
     "name": "stdout",
     "output_type": "stream",
     "text": [
      "C:\\Users\\samfr\\PycharmProjects\\upg\\datasets\n"
     ]
    }
   ],
   "source": [
    "import os\n",
    "os. chdir(\"C:/Users/samfr/PycharmProjects/upg/datasets\")\n",
    "print(os.getcwd())"
   ]
  },
  {
   "cell_type": "code",
   "execution_count": 3,
   "metadata": {},
   "outputs": [],
   "source": [
    "train_path = '/Users/samfr/PycharmProjects/upg/datasets/train'\n",
    "valid_path = '/Users/samfr/PycharmProjects/upg/datasets/valid'\n",
    "test_path = '/Users/samfr/PycharmProjects/upg/datasets/test'"
   ]
  },
  {
   "cell_type": "code",
   "execution_count": 4,
   "metadata": {},
   "outputs": [
    {
     "name": "stdout",
     "output_type": "stream",
     "text": [
      "Found 2721 images belonging to 3 classes.\n"
     ]
    }
   ],
   "source": [
    "train_batches = ImageDataGenerator(rescale=None,\n",
    "        rotation_range=20,\n",
    "        shear_range=0.2,\n",
    "        zoom_range=0.2,\n",
    "        horizontal_flip=False).flow_from_directory(directory=train_path, \n",
    "                            target_size=(224,224), \n",
    "                            classes=['COVID-19','NORMAL','Viral_Pneumonia'], \n",
    "                            batch_size=10)"
   ]
  },
  {
   "cell_type": "code",
   "execution_count": 5,
   "metadata": {},
   "outputs": [
    {
     "name": "stdout",
     "output_type": "stream",
     "text": [
      "Found 583 images belonging to 3 classes.\n"
     ]
    }
   ],
   "source": [
    "valid_batches = ImageDataGenerator(rescale=None,\n",
    "        rotation_range=20,\n",
    "        shear_range=0.2,\n",
    "        zoom_range=0.2,\n",
    "        horizontal_flip=False).flow_from_directory(directory=valid_path, \n",
    "                            target_size=(224,224), \n",
    "                            classes=['COVID-19','NORMAL','Viral_Pneumonia'], \n",
    "                            batch_size=10)"
   ]
  },
  {
   "cell_type": "code",
   "execution_count": 6,
   "metadata": {},
   "outputs": [
    {
     "name": "stdout",
     "output_type": "stream",
     "text": [
      "Found 582 images belonging to 3 classes.\n"
     ]
    }
   ],
   "source": [
    "test_batches = ImageDataGenerator().flow_from_directory(directory=test_path, target_size=(224,224), classes=['COVID-19','NORMAL','Viral_Pneumonia'], batch_size=10)"
   ]
  },
  {
   "cell_type": "code",
   "execution_count": 7,
   "metadata": {},
   "outputs": [
    {
     "name": "stdout",
     "output_type": "stream",
     "text": [
      "Model: \"vgg19\"\n",
      "_________________________________________________________________\n",
      "Layer (type)                 Output Shape              Param #   \n",
      "=================================================================\n",
      "input_1 (InputLayer)         [(None, 224, 224, 3)]     0         \n",
      "_________________________________________________________________\n",
      "block1_conv1 (Conv2D)        (None, 224, 224, 64)      1792      \n",
      "_________________________________________________________________\n",
      "block1_conv2 (Conv2D)        (None, 224, 224, 64)      36928     \n",
      "_________________________________________________________________\n",
      "block1_pool (MaxPooling2D)   (None, 112, 112, 64)      0         \n",
      "_________________________________________________________________\n",
      "block2_conv1 (Conv2D)        (None, 112, 112, 128)     73856     \n",
      "_________________________________________________________________\n",
      "block2_conv2 (Conv2D)        (None, 112, 112, 128)     147584    \n",
      "_________________________________________________________________\n",
      "block2_pool (MaxPooling2D)   (None, 56, 56, 128)       0         \n",
      "_________________________________________________________________\n",
      "block3_conv1 (Conv2D)        (None, 56, 56, 256)       295168    \n",
      "_________________________________________________________________\n",
      "block3_conv2 (Conv2D)        (None, 56, 56, 256)       590080    \n",
      "_________________________________________________________________\n",
      "block3_conv3 (Conv2D)        (None, 56, 56, 256)       590080    \n",
      "_________________________________________________________________\n",
      "block3_conv4 (Conv2D)        (None, 56, 56, 256)       590080    \n",
      "_________________________________________________________________\n",
      "block3_pool (MaxPooling2D)   (None, 28, 28, 256)       0         \n",
      "_________________________________________________________________\n",
      "block4_conv1 (Conv2D)        (None, 28, 28, 512)       1180160   \n",
      "_________________________________________________________________\n",
      "block4_conv2 (Conv2D)        (None, 28, 28, 512)       2359808   \n",
      "_________________________________________________________________\n",
      "block4_conv3 (Conv2D)        (None, 28, 28, 512)       2359808   \n",
      "_________________________________________________________________\n",
      "block4_conv4 (Conv2D)        (None, 28, 28, 512)       2359808   \n",
      "_________________________________________________________________\n",
      "block4_pool (MaxPooling2D)   (None, 14, 14, 512)       0         \n",
      "_________________________________________________________________\n",
      "block5_conv1 (Conv2D)        (None, 14, 14, 512)       2359808   \n",
      "_________________________________________________________________\n",
      "block5_conv2 (Conv2D)        (None, 14, 14, 512)       2359808   \n",
      "_________________________________________________________________\n",
      "block5_conv3 (Conv2D)        (None, 14, 14, 512)       2359808   \n",
      "_________________________________________________________________\n",
      "block5_conv4 (Conv2D)        (None, 14, 14, 512)       2359808   \n",
      "_________________________________________________________________\n",
      "block5_pool (MaxPooling2D)   (None, 7, 7, 512)         0         \n",
      "_________________________________________________________________\n",
      "flatten (Flatten)            (None, 25088)             0         \n",
      "_________________________________________________________________\n",
      "fc1 (Dense)                  (None, 4096)              102764544 \n",
      "_________________________________________________________________\n",
      "fc2 (Dense)                  (None, 4096)              16781312  \n",
      "_________________________________________________________________\n",
      "predictions (Dense)          (None, 1000)              4097000   \n",
      "=================================================================\n",
      "Total params: 143,667,240\n",
      "Trainable params: 143,667,240\n",
      "Non-trainable params: 0\n",
      "_________________________________________________________________\n"
     ]
    },
    {
     "data": {
      "text/plain": [
       "tensorflow.python.keras.engine.functional.Functional"
      ]
     },
     "execution_count": 7,
     "metadata": {},
     "output_type": "execute_result"
    }
   ],
   "source": [
    "# Download model - Internet connection needed\n",
    "vgg19_model = keras.applications.vgg19.VGG19()\n",
    "\n",
    "vgg19_model.summary()\n",
    "\n",
    "type(vgg19_model)"
   ]
  },
  {
   "cell_type": "code",
   "execution_count": 8,
   "metadata": {},
   "outputs": [
    {
     "name": "stdout",
     "output_type": "stream",
     "text": [
      "Model: \"sequential\"\n",
      "_________________________________________________________________\n",
      "Layer (type)                 Output Shape              Param #   \n",
      "=================================================================\n",
      "block1_conv1 (Conv2D)        (None, 224, 224, 64)      1792      \n",
      "_________________________________________________________________\n",
      "block1_conv2 (Conv2D)        (None, 224, 224, 64)      36928     \n",
      "_________________________________________________________________\n",
      "block1_pool (MaxPooling2D)   (None, 112, 112, 64)      0         \n",
      "_________________________________________________________________\n",
      "block2_conv1 (Conv2D)        (None, 112, 112, 128)     73856     \n",
      "_________________________________________________________________\n",
      "block2_conv2 (Conv2D)        (None, 112, 112, 128)     147584    \n",
      "_________________________________________________________________\n",
      "block2_pool (MaxPooling2D)   (None, 56, 56, 128)       0         \n",
      "_________________________________________________________________\n",
      "block3_conv1 (Conv2D)        (None, 56, 56, 256)       295168    \n",
      "_________________________________________________________________\n",
      "block3_conv2 (Conv2D)        (None, 56, 56, 256)       590080    \n",
      "_________________________________________________________________\n",
      "block3_conv3 (Conv2D)        (None, 56, 56, 256)       590080    \n",
      "_________________________________________________________________\n",
      "block3_conv4 (Conv2D)        (None, 56, 56, 256)       590080    \n",
      "_________________________________________________________________\n",
      "block3_pool (MaxPooling2D)   (None, 28, 28, 256)       0         \n",
      "_________________________________________________________________\n",
      "block4_conv1 (Conv2D)        (None, 28, 28, 512)       1180160   \n",
      "_________________________________________________________________\n",
      "block4_conv2 (Conv2D)        (None, 28, 28, 512)       2359808   \n",
      "_________________________________________________________________\n",
      "block4_conv3 (Conv2D)        (None, 28, 28, 512)       2359808   \n",
      "_________________________________________________________________\n",
      "block4_conv4 (Conv2D)        (None, 28, 28, 512)       2359808   \n",
      "_________________________________________________________________\n",
      "block4_pool (MaxPooling2D)   (None, 14, 14, 512)       0         \n",
      "_________________________________________________________________\n",
      "block5_conv1 (Conv2D)        (None, 14, 14, 512)       2359808   \n",
      "_________________________________________________________________\n",
      "block5_conv2 (Conv2D)        (None, 14, 14, 512)       2359808   \n",
      "_________________________________________________________________\n",
      "block5_conv3 (Conv2D)        (None, 14, 14, 512)       2359808   \n",
      "_________________________________________________________________\n",
      "block5_conv4 (Conv2D)        (None, 14, 14, 512)       2359808   \n",
      "_________________________________________________________________\n",
      "block5_pool (MaxPooling2D)   (None, 7, 7, 512)         0         \n",
      "_________________________________________________________________\n",
      "flatten (Flatten)            (None, 25088)             0         \n",
      "_________________________________________________________________\n",
      "fc1 (Dense)                  (None, 4096)              102764544 \n",
      "_________________________________________________________________\n",
      "fc2 (Dense)                  (None, 4096)              16781312  \n",
      "=================================================================\n",
      "Total params: 139,570,240\n",
      "Trainable params: 139,570,240\n",
      "Non-trainable params: 0\n",
      "_________________________________________________________________\n"
     ]
    }
   ],
   "source": [
    "# transforming this model into sequential model\n",
    "model = Sequential()\n",
    "for layer in vgg19_model.layers[:-1]:\n",
    "    model.add(layer)\n",
    "\n",
    "\n",
    "model.summary()"
   ]
  },
  {
   "cell_type": "code",
   "execution_count": 9,
   "metadata": {},
   "outputs": [
    {
     "name": "stdout",
     "output_type": "stream",
     "text": [
      "Model: \"sequential\"\n",
      "_________________________________________________________________\n",
      "Layer (type)                 Output Shape              Param #   \n",
      "=================================================================\n",
      "block1_conv1 (Conv2D)        (None, 224, 224, 64)      1792      \n",
      "_________________________________________________________________\n",
      "block1_conv2 (Conv2D)        (None, 224, 224, 64)      36928     \n",
      "_________________________________________________________________\n",
      "block1_pool (MaxPooling2D)   (None, 112, 112, 64)      0         \n",
      "_________________________________________________________________\n",
      "block2_conv1 (Conv2D)        (None, 112, 112, 128)     73856     \n",
      "_________________________________________________________________\n",
      "block2_conv2 (Conv2D)        (None, 112, 112, 128)     147584    \n",
      "_________________________________________________________________\n",
      "block2_pool (MaxPooling2D)   (None, 56, 56, 128)       0         \n",
      "_________________________________________________________________\n",
      "block3_conv1 (Conv2D)        (None, 56, 56, 256)       295168    \n",
      "_________________________________________________________________\n",
      "block3_conv2 (Conv2D)        (None, 56, 56, 256)       590080    \n",
      "_________________________________________________________________\n",
      "block3_conv3 (Conv2D)        (None, 56, 56, 256)       590080    \n",
      "_________________________________________________________________\n",
      "block3_conv4 (Conv2D)        (None, 56, 56, 256)       590080    \n",
      "_________________________________________________________________\n",
      "block3_pool (MaxPooling2D)   (None, 28, 28, 256)       0         \n",
      "_________________________________________________________________\n",
      "block4_conv1 (Conv2D)        (None, 28, 28, 512)       1180160   \n",
      "_________________________________________________________________\n",
      "block4_conv2 (Conv2D)        (None, 28, 28, 512)       2359808   \n",
      "_________________________________________________________________\n",
      "block4_conv3 (Conv2D)        (None, 28, 28, 512)       2359808   \n",
      "_________________________________________________________________\n",
      "block4_conv4 (Conv2D)        (None, 28, 28, 512)       2359808   \n",
      "_________________________________________________________________\n",
      "block4_pool (MaxPooling2D)   (None, 14, 14, 512)       0         \n",
      "_________________________________________________________________\n",
      "block5_conv1 (Conv2D)        (None, 14, 14, 512)       2359808   \n",
      "_________________________________________________________________\n",
      "block5_conv2 (Conv2D)        (None, 14, 14, 512)       2359808   \n",
      "_________________________________________________________________\n",
      "block5_conv3 (Conv2D)        (None, 14, 14, 512)       2359808   \n",
      "_________________________________________________________________\n",
      "block5_conv4 (Conv2D)        (None, 14, 14, 512)       2359808   \n",
      "_________________________________________________________________\n",
      "block5_pool (MaxPooling2D)   (None, 7, 7, 512)         0         \n",
      "_________________________________________________________________\n",
      "flatten (Flatten)            (None, 25088)             0         \n",
      "_________________________________________________________________\n",
      "fc1 (Dense)                  (None, 4096)              102764544 \n",
      "_________________________________________________________________\n",
      "fc2 (Dense)                  (None, 4096)              16781312  \n",
      "_________________________________________________________________\n",
      "dense (Dense)                (None, 3)                 12291     \n",
      "=================================================================\n",
      "Total params: 139,582,531\n",
      "Trainable params: 12,291\n",
      "Non-trainable params: 139,570,240\n",
      "_________________________________________________________________\n"
     ]
    }
   ],
   "source": [
    "# verify model params\n",
    "# assert count_params(model.non_trainable_weights) == 0\n",
    "# assert count_params(model.trainable_weights) == 134260544\n",
    "\n",
    "for layer in model.layers:\n",
    "    layer.trainable = False\n",
    "\n",
    "model.add(Dense(units=3, activation='softmax'))\n",
    "\n",
    "model.summary()"
   ]
  },
  {
   "cell_type": "code",
   "execution_count": 18,
   "metadata": {},
   "outputs": [],
   "source": [
    "from keras.models import Sequential\n",
    "from keras.layers import Dense\n",
    "from keras.callbacks import ModelCheckpoint\n",
    "\n",
    "filepath = \"three_classification_problem_model_solved_VGG19_new_test.h5\"\n",
    "\n",
    "checkpoint = ModelCheckpoint(filepath, monitor='val_accuracy', verbose=2, save_best_only=True, mode='max')\n",
    "callbacks_list = [checkpoint]"
   ]
  },
  {
   "cell_type": "code",
   "execution_count": 19,
   "metadata": {},
   "outputs": [
    {
     "name": "stderr",
     "output_type": "stream",
     "text": [
      "C:\\Users\\samfr\\anaconda3\\lib\\site-packages\\tensorflow\\python\\keras\\engine\\training.py:1844: UserWarning: `Model.fit_generator` is deprecated and will be removed in a future version. Please use `Model.fit`, which supports generators.\n",
      "  warnings.warn('`Model.fit_generator` is deprecated and '\n"
     ]
    },
    {
     "name": "stdout",
     "output_type": "stream",
     "text": [
      "Epoch 1/50\n",
      "4/4 - 28s - loss: 0.7021 - accuracy: 0.7250 - val_loss: 0.6237 - val_accuracy: 0.7000\n",
      "\n",
      "Epoch 00001: val_accuracy improved from -inf to 0.70000, saving model to three_classification_problem_model_solved_VGG19_new_test.h5\n",
      "Epoch 2/50\n",
      "4/4 - 26s - loss: 0.5115 - accuracy: 0.7500 - val_loss: 0.7881 - val_accuracy: 0.7000\n",
      "\n",
      "Epoch 00002: val_accuracy did not improve from 0.70000\n",
      "Epoch 3/50\n",
      "4/4 - 22s - loss: 0.5681 - accuracy: 0.8000 - val_loss: 0.4043 - val_accuracy: 0.8750\n",
      "\n",
      "Epoch 00003: val_accuracy improved from 0.70000 to 0.87500, saving model to three_classification_problem_model_solved_VGG19_new_test.h5\n",
      "Epoch 4/50\n",
      "4/4 - 19s - loss: 0.6327 - accuracy: 0.7500 - val_loss: 0.5611 - val_accuracy: 0.7500\n",
      "\n",
      "Epoch 00004: val_accuracy did not improve from 0.87500\n",
      "Epoch 5/50\n",
      "4/4 - 20s - loss: 0.7344 - accuracy: 0.6000 - val_loss: 0.6345 - val_accuracy: 0.7500\n",
      "\n",
      "Epoch 00005: val_accuracy did not improve from 0.87500\n",
      "Epoch 6/50\n",
      "4/4 - 20s - loss: 0.4892 - accuracy: 0.7750 - val_loss: 0.6242 - val_accuracy: 0.8000\n",
      "\n",
      "Epoch 00006: val_accuracy did not improve from 0.87500\n",
      "Epoch 7/50\n",
      "4/4 - 20s - loss: 0.5408 - accuracy: 0.8250 - val_loss: 0.6189 - val_accuracy: 0.7250\n",
      "\n",
      "Epoch 00007: val_accuracy did not improve from 0.87500\n",
      "Epoch 8/50\n",
      "4/4 - 19s - loss: 0.3880 - accuracy: 0.8000 - val_loss: 0.5399 - val_accuracy: 0.7250\n",
      "\n",
      "Epoch 00008: val_accuracy did not improve from 0.87500\n",
      "Epoch 9/50\n",
      "4/4 - 19s - loss: 0.4998 - accuracy: 0.8500 - val_loss: 0.4768 - val_accuracy: 0.7750\n",
      "\n",
      "Epoch 00009: val_accuracy did not improve from 0.87500\n",
      "Epoch 10/50\n",
      "4/4 - 19s - loss: 0.4991 - accuracy: 0.7750 - val_loss: 0.3819 - val_accuracy: 0.8250\n",
      "\n",
      "Epoch 00010: val_accuracy did not improve from 0.87500\n",
      "Epoch 11/50\n",
      "4/4 - 19s - loss: 0.5243 - accuracy: 0.8000 - val_loss: 0.4839 - val_accuracy: 0.8000\n",
      "\n",
      "Epoch 00011: val_accuracy did not improve from 0.87500\n",
      "Epoch 12/50\n",
      "4/4 - 20s - loss: 0.4641 - accuracy: 0.8750 - val_loss: 0.4046 - val_accuracy: 0.8750\n",
      "\n",
      "Epoch 00012: val_accuracy did not improve from 0.87500\n",
      "Epoch 13/50\n",
      "4/4 - 19s - loss: 0.4743 - accuracy: 0.8250 - val_loss: 0.4294 - val_accuracy: 0.7750\n",
      "\n",
      "Epoch 00013: val_accuracy did not improve from 0.87500\n",
      "Epoch 14/50\n",
      "4/4 - 19s - loss: 0.3541 - accuracy: 0.8250 - val_loss: 0.4606 - val_accuracy: 0.7500\n",
      "\n",
      "Epoch 00014: val_accuracy did not improve from 0.87500\n",
      "Epoch 15/50\n",
      "4/4 - 19s - loss: 0.5030 - accuracy: 0.8750 - val_loss: 0.5501 - val_accuracy: 0.7750\n",
      "\n",
      "Epoch 00015: val_accuracy did not improve from 0.87500\n",
      "Epoch 16/50\n",
      "4/4 - 19s - loss: 0.4952 - accuracy: 0.7500 - val_loss: 0.3634 - val_accuracy: 0.8250\n",
      "\n",
      "Epoch 00016: val_accuracy did not improve from 0.87500\n",
      "Epoch 17/50\n",
      "4/4 - 19s - loss: 0.5273 - accuracy: 0.8000 - val_loss: 0.2932 - val_accuracy: 0.9000\n",
      "\n",
      "Epoch 00017: val_accuracy improved from 0.87500 to 0.90000, saving model to three_classification_problem_model_solved_VGG19_new_test.h5\n",
      "Epoch 18/50\n",
      "4/4 - 19s - loss: 0.3359 - accuracy: 0.8500 - val_loss: 0.2434 - val_accuracy: 0.9250\n",
      "\n",
      "Epoch 00018: val_accuracy improved from 0.90000 to 0.92500, saving model to three_classification_problem_model_solved_VGG19_new_test.h5\n",
      "Epoch 19/50\n",
      "4/4 - 18s - loss: 0.3851 - accuracy: 0.8250 - val_loss: 0.3964 - val_accuracy: 0.8000\n",
      "\n",
      "Epoch 00019: val_accuracy did not improve from 0.92500\n",
      "Epoch 20/50\n",
      "4/4 - 19s - loss: 0.3386 - accuracy: 0.8750 - val_loss: 0.3655 - val_accuracy: 0.8750\n",
      "\n",
      "Epoch 00020: val_accuracy did not improve from 0.92500\n",
      "Epoch 21/50\n",
      "4/4 - 18s - loss: 0.3036 - accuracy: 0.8710 - val_loss: 0.4114 - val_accuracy: 0.8000\n",
      "\n",
      "Epoch 00021: val_accuracy did not improve from 0.92500\n",
      "Epoch 22/50\n",
      "4/4 - 19s - loss: 0.4049 - accuracy: 0.8500 - val_loss: 0.3897 - val_accuracy: 0.8000\n",
      "\n",
      "Epoch 00022: val_accuracy did not improve from 0.92500\n",
      "Epoch 23/50\n",
      "4/4 - 19s - loss: 0.5369 - accuracy: 0.8250 - val_loss: 0.2916 - val_accuracy: 0.9250\n",
      "\n",
      "Epoch 00023: val_accuracy did not improve from 0.92500\n",
      "Epoch 24/50\n",
      "4/4 - 19s - loss: 0.4268 - accuracy: 0.8750 - val_loss: 0.3707 - val_accuracy: 0.8500\n",
      "\n",
      "Epoch 00024: val_accuracy did not improve from 0.92500\n",
      "Epoch 25/50\n",
      "4/4 - 19s - loss: 0.4135 - accuracy: 0.8250 - val_loss: 0.4637 - val_accuracy: 0.7750\n",
      "\n",
      "Epoch 00025: val_accuracy did not improve from 0.92500\n",
      "Epoch 26/50\n",
      "4/4 - 23s - loss: 0.1563 - accuracy: 0.9750 - val_loss: 0.3105 - val_accuracy: 0.8750\n",
      "\n",
      "Epoch 00026: val_accuracy did not improve from 0.92500\n",
      "Epoch 27/50\n",
      "4/4 - 19s - loss: 0.2552 - accuracy: 0.9500 - val_loss: 0.3353 - val_accuracy: 0.8750\n",
      "\n",
      "Epoch 00027: val_accuracy did not improve from 0.92500\n",
      "Epoch 28/50\n",
      "4/4 - 19s - loss: 0.2829 - accuracy: 0.9500 - val_loss: 0.3675 - val_accuracy: 0.9250\n",
      "\n",
      "Epoch 00028: val_accuracy did not improve from 0.92500\n",
      "Epoch 29/50\n",
      "4/4 - 19s - loss: 0.2456 - accuracy: 0.9000 - val_loss: 0.2301 - val_accuracy: 0.9500\n",
      "\n",
      "Epoch 00029: val_accuracy improved from 0.92500 to 0.95000, saving model to three_classification_problem_model_solved_VGG19_new_test.h5\n",
      "Epoch 30/50\n",
      "4/4 - 18s - loss: 0.2820 - accuracy: 0.9000 - val_loss: 0.3591 - val_accuracy: 0.9500\n",
      "\n",
      "Epoch 00030: val_accuracy did not improve from 0.95000\n",
      "Epoch 31/50\n",
      "4/4 - 19s - loss: 0.3011 - accuracy: 0.8250 - val_loss: 0.5667 - val_accuracy: 0.7500\n",
      "\n",
      "Epoch 00031: val_accuracy did not improve from 0.95000\n",
      "Epoch 32/50\n",
      "4/4 - 19s - loss: 0.2467 - accuracy: 0.9000 - val_loss: 0.3462 - val_accuracy: 0.9000\n",
      "\n",
      "Epoch 00032: val_accuracy did not improve from 0.95000\n",
      "Epoch 33/50\n",
      "4/4 - 19s - loss: 0.3496 - accuracy: 0.8750 - val_loss: 0.3810 - val_accuracy: 0.8250\n",
      "\n",
      "Epoch 00033: val_accuracy did not improve from 0.95000\n",
      "Epoch 34/50\n",
      "4/4 - 19s - loss: 0.5815 - accuracy: 0.8000 - val_loss: 0.2301 - val_accuracy: 0.9500\n",
      "\n",
      "Epoch 00034: val_accuracy did not improve from 0.95000\n",
      "Epoch 35/50\n",
      "4/4 - 20s - loss: 0.2906 - accuracy: 0.9000 - val_loss: 0.3055 - val_accuracy: 0.8500\n",
      "\n",
      "Epoch 00035: val_accuracy did not improve from 0.95000\n",
      "Epoch 36/50\n",
      "4/4 - 20s - loss: 0.2577 - accuracy: 0.9250 - val_loss: 0.3898 - val_accuracy: 0.8750\n",
      "\n",
      "Epoch 00036: val_accuracy did not improve from 0.95000\n",
      "Epoch 37/50\n",
      "4/4 - 19s - loss: 0.2064 - accuracy: 0.8750 - val_loss: 0.4051 - val_accuracy: 0.8000\n",
      "\n",
      "Epoch 00037: val_accuracy did not improve from 0.95000\n",
      "Epoch 38/50\n",
      "4/4 - 19s - loss: 0.3041 - accuracy: 0.8750 - val_loss: 0.3033 - val_accuracy: 0.9000\n",
      "\n",
      "Epoch 00038: val_accuracy did not improve from 0.95000\n",
      "Epoch 39/50\n",
      "4/4 - 19s - loss: 0.3165 - accuracy: 0.9000 - val_loss: 0.3346 - val_accuracy: 0.9000\n",
      "\n",
      "Epoch 00039: val_accuracy did not improve from 0.95000\n",
      "Epoch 40/50\n",
      "4/4 - 19s - loss: 0.3635 - accuracy: 0.8500 - val_loss: 0.2118 - val_accuracy: 0.9250\n",
      "\n",
      "Epoch 00040: val_accuracy did not improve from 0.95000\n",
      "Epoch 41/50\n",
      "4/4 - 19s - loss: 0.3017 - accuracy: 0.9000 - val_loss: 0.5185 - val_accuracy: 0.8500\n",
      "\n",
      "Epoch 00041: val_accuracy did not improve from 0.95000\n",
      "Epoch 42/50\n",
      "4/4 - 19s - loss: 0.2834 - accuracy: 0.8250 - val_loss: 0.3060 - val_accuracy: 0.9000\n",
      "\n",
      "Epoch 00042: val_accuracy did not improve from 0.95000\n",
      "Epoch 43/50\n",
      "4/4 - 19s - loss: 0.1767 - accuracy: 0.9750 - val_loss: 0.2257 - val_accuracy: 0.9000\n",
      "\n",
      "Epoch 00043: val_accuracy did not improve from 0.95000\n",
      "Epoch 44/50\n",
      "4/4 - 19s - loss: 0.3097 - accuracy: 0.8500 - val_loss: 0.2936 - val_accuracy: 0.9250\n",
      "\n",
      "Epoch 00044: val_accuracy did not improve from 0.95000\n",
      "Epoch 45/50\n",
      "4/4 - 19s - loss: 0.3360 - accuracy: 0.9000 - val_loss: 0.3887 - val_accuracy: 0.8500\n",
      "\n",
      "Epoch 00045: val_accuracy did not improve from 0.95000\n",
      "Epoch 46/50\n",
      "4/4 - 19s - loss: 0.2371 - accuracy: 0.8750 - val_loss: 0.2891 - val_accuracy: 0.9250\n",
      "\n",
      "Epoch 00046: val_accuracy did not improve from 0.95000\n",
      "Epoch 47/50\n",
      "4/4 - 19s - loss: 0.1828 - accuracy: 0.9250 - val_loss: 0.1540 - val_accuracy: 0.9500\n",
      "\n",
      "Epoch 00047: val_accuracy did not improve from 0.95000\n",
      "Epoch 48/50\n",
      "4/4 - 19s - loss: 0.2048 - accuracy: 0.9250 - val_loss: 0.2663 - val_accuracy: 0.8750\n",
      "\n",
      "Epoch 00048: val_accuracy did not improve from 0.95000\n",
      "Epoch 49/50\n",
      "4/4 - 19s - loss: 0.2091 - accuracy: 0.9750 - val_loss: 0.2914 - val_accuracy: 0.9000\n",
      "\n",
      "Epoch 00049: val_accuracy did not improve from 0.95000\n",
      "Epoch 50/50\n",
      "4/4 - 19s - loss: 0.2980 - accuracy: 0.8250 - val_loss: 0.4875 - val_accuracy: 0.8250\n",
      "\n",
      "Epoch 00050: val_accuracy did not improve from 0.95000\n"
     ]
    }
   ],
   "source": [
    "#Train the fine-tuned VGG19 model\n",
    "model.compile(optimizer=Adam(learning_rate=0.0001), loss='categorical_crossentropy', metrics=['accuracy'])\n",
    "\n",
    "results = model.fit_generator(generator=train_batches, steps_per_epoch=4,\n",
    "                    validation_data=valid_batches, validation_steps=4, epochs=50, verbose=2,callbacks = callbacks_list) #2/1/-1\n",
    "\n",
    "#model.save('three_classification_problem_model_solved_VGG19_new_test.h5')"
   ]
  },
  {
   "cell_type": "code",
   "execution_count": null,
   "metadata": {},
   "outputs": [],
   "source": []
  },
  {
   "cell_type": "markdown",
   "metadata": {},
   "source": [
    "### Let's plot the performance of Deep Learning model"
   ]
  },
  {
   "cell_type": "code",
   "execution_count": 20,
   "metadata": {},
   "outputs": [
    {
     "data": {
      "image/png": "[encoded data removed]",
      "text/plain": [
       "<Figure size 1080x360 with 2 Axes>"
      ]
     },
     "metadata": {
      "needs_background": "light"
     },
     "output_type": "display_data"
    }
   ],
   "source": [
    "import matplotlib.pyplot as plt\n",
    "def plot_acc_loss(results, epochs):\n",
    " acc = results.history['accuracy']\n",
    " loss = results.history['loss']\n",
    " val_acc = results.history['val_accuracy']\n",
    " val_loss = results.history['val_loss']\n",
    " plt.figure(figsize=(15, 5))\n",
    " plt.subplot(121)\n",
    " plt.plot(range(1,epochs), acc[1:], label='Train_acc')\n",
    " plt.plot(range(1,epochs), val_acc[1:], label='Test_acc')\n",
    " plt.title('Accuracy over' + str(epochs) + 'Epochs', size=15)\n",
    " plt.legend()\n",
    " plt.grid(True)\n",
    " plt.subplot(122)\n",
    " plt.plot(range(1,epochs), loss[1:], label='Train_loss')\n",
    " plt.plot(range(1,epochs), val_loss[1:], label='Test_loss')\n",
    " plt.title('Loss over' + str(epochs) +  'Epochs', size=15)\n",
    " plt.legend()\n",
    " plt.grid(True)\n",
    " plt.show()\n",
    " \n",
    "plot_acc_loss(results, 50)"
   ]
  },
  {
   "cell_type": "code",
   "execution_count": 55,
   "metadata": {},
   "outputs": [
    {
     "ename": "AttributeError",
     "evalue": "'NoneType' object has no attribute 'load_weights'",
     "output_type": "error",
     "traceback": [
      "\u001b[1;31m---------------------------------------------------------------------------\u001b[0m",
      "\u001b[1;31mAttributeError\u001b[0m                            Traceback (most recent call last)",
      "\u001b[1;32m<ipython-input-55-1e80f26512bf>\u001b[0m in \u001b[0;36m<module>\u001b[1;34m\u001b[0m\n\u001b[0;32m      5\u001b[0m \u001b[1;31m# You must create the model since loading only the weights\u001b[0m\u001b[1;33m\u001b[0m\u001b[1;33m\u001b[0m\u001b[1;33m\u001b[0m\u001b[0m\n\u001b[0;32m      6\u001b[0m \u001b[0mmodel\u001b[0m \u001b[1;33m=\u001b[0m \u001b[0mcreate_model\u001b[0m\u001b[1;33m(\u001b[0m\u001b[1;33m)\u001b[0m\u001b[1;33m\u001b[0m\u001b[1;33m\u001b[0m\u001b[0m\n\u001b[1;32m----> 7\u001b[1;33m \u001b[0mmodel\u001b[0m\u001b[1;33m.\u001b[0m\u001b[0mload_weights\u001b[0m\u001b[1;33m(\u001b[0m\u001b[1;34m'/Users/samfr/PycharmProjects/upg/datasets/three_classification_problem_model_solved_VGG19_new_test.h5'\u001b[0m\u001b[1;33m)\u001b[0m\u001b[1;33m\u001b[0m\u001b[1;33m\u001b[0m\u001b[0m\n\u001b[0m",
      "\u001b[1;31mAttributeError\u001b[0m: 'NoneType' object has no attribute 'load_weights'"
     ]
    }
   ],
   "source": [
    "def create_model():\n",
    "   model = Sequential() \n",
    "   # ... creating the model exactly as it was defined in the training time\n",
    "\n",
    "# You must create the model since loading only the weights\n",
    "model = create_model()\n",
    "model.load_weights('/Users/samfr/PycharmProjects/upg/datasets/three_classification_problem_model_solved_VGG19_new_test.h5')"
   ]
  },
  {
   "cell_type": "code",
   "execution_count": 54,
   "metadata": {},
   "outputs": [
    {
     "ename": "TypeError",
     "evalue": "'History' object is not callable",
     "output_type": "error",
     "traceback": [
      "\u001b[1;31m---------------------------------------------------------------------------\u001b[0m",
      "\u001b[1;31mTypeError\u001b[0m                                 Traceback (most recent call last)",
      "\u001b[1;32m<ipython-input-54-71afb78e5bf2>\u001b[0m in \u001b[0;36m<module>\u001b[1;34m\u001b[0m\n\u001b[1;32m----> 1\u001b[1;33m \u001b[0mmodel_loaded\u001b[0m\u001b[1;33m.\u001b[0m\u001b[0mhistory\u001b[0m\u001b[1;33m(\u001b[0m\u001b[1;33m)\u001b[0m\u001b[1;33m\u001b[0m\u001b[1;33m\u001b[0m\u001b[0m\n\u001b[0m",
      "\u001b[1;31mTypeError\u001b[0m: 'History' object is not callable"
     ]
    }
   ],
   "source": [
    "model_loaded.history()"
   ]
  },
  {
   "cell_type": "code",
   "execution_count": 51,
   "metadata": {},
   "outputs": [
    {
     "ename": "TypeError",
     "evalue": "'History' object is not subscriptable",
     "output_type": "error",
     "traceback": [
      "\u001b[1;31m---------------------------------------------------------------------------\u001b[0m",
      "\u001b[1;31mTypeError\u001b[0m                                 Traceback (most recent call last)",
      "\u001b[1;32m<ipython-input-51-cf56cef8c524>\u001b[0m in \u001b[0;36m<module>\u001b[1;34m\u001b[0m\n\u001b[0;32m     20\u001b[0m  \u001b[0mplt\u001b[0m\u001b[1;33m.\u001b[0m\u001b[0mshow\u001b[0m\u001b[1;33m(\u001b[0m\u001b[1;33m)\u001b[0m\u001b[1;33m\u001b[0m\u001b[1;33m\u001b[0m\u001b[0m\n\u001b[0;32m     21\u001b[0m \u001b[1;33m\u001b[0m\u001b[0m\n\u001b[1;32m---> 22\u001b[1;33m \u001b[0mplot_acc_loss\u001b[0m\u001b[1;33m(\u001b[0m\u001b[0mresults\u001b[0m\u001b[1;33m,\u001b[0m \u001b[1;36m50\u001b[0m\u001b[1;33m)\u001b[0m\u001b[1;33m\u001b[0m\u001b[1;33m\u001b[0m\u001b[0m\n\u001b[0m",
      "\u001b[1;32m<ipython-input-51-cf56cef8c524>\u001b[0m in \u001b[0;36mplot_acc_loss\u001b[1;34m(results, epochs)\u001b[0m\n\u001b[0;32m      1\u001b[0m \u001b[1;32mimport\u001b[0m \u001b[0mmatplotlib\u001b[0m\u001b[1;33m.\u001b[0m\u001b[0mpyplot\u001b[0m \u001b[1;32mas\u001b[0m \u001b[0mplt\u001b[0m\u001b[1;33m\u001b[0m\u001b[1;33m\u001b[0m\u001b[0m\n\u001b[0;32m      2\u001b[0m \u001b[1;32mdef\u001b[0m \u001b[0mplot_acc_loss\u001b[0m\u001b[1;33m(\u001b[0m\u001b[0mresults\u001b[0m\u001b[1;33m,\u001b[0m \u001b[0mepochs\u001b[0m\u001b[1;33m)\u001b[0m\u001b[1;33m:\u001b[0m\u001b[1;33m\u001b[0m\u001b[1;33m\u001b[0m\u001b[0m\n\u001b[1;32m----> 3\u001b[1;33m  \u001b[0macc\u001b[0m \u001b[1;33m=\u001b[0m \u001b[0mresults\u001b[0m\u001b[1;33m.\u001b[0m\u001b[0mhistory\u001b[0m\u001b[1;33m[\u001b[0m\u001b[1;34m'accuracy'\u001b[0m\u001b[1;33m]\u001b[0m\u001b[1;33m\u001b[0m\u001b[1;33m\u001b[0m\u001b[0m\n\u001b[0m\u001b[0;32m      4\u001b[0m  \u001b[0mloss\u001b[0m \u001b[1;33m=\u001b[0m \u001b[0mresults\u001b[0m\u001b[1;33m.\u001b[0m\u001b[0mhistory\u001b[0m\u001b[1;33m[\u001b[0m\u001b[1;34m'loss'\u001b[0m\u001b[1;33m]\u001b[0m\u001b[1;33m\u001b[0m\u001b[1;33m\u001b[0m\u001b[0m\n\u001b[0;32m      5\u001b[0m  \u001b[0mval_acc\u001b[0m \u001b[1;33m=\u001b[0m \u001b[0mresults\u001b[0m\u001b[1;33m.\u001b[0m\u001b[0mhistory\u001b[0m\u001b[1;33m[\u001b[0m\u001b[1;34m'val_accuracy'\u001b[0m\u001b[1;33m]\u001b[0m\u001b[1;33m\u001b[0m\u001b[1;33m\u001b[0m\u001b[0m\n",
      "\u001b[1;31mTypeError\u001b[0m: 'History' object is not subscriptable"
     ]
    }
   ],
   "source": [
    "import matplotlib.pyplot as plt\n",
    "def plot_acc_loss(results, epochs):\n",
    " acc = results.history['accuracy']\n",
    " loss = results.history['loss']\n",
    " val_acc = results.history['val_accuracy']\n",
    " val_loss = results.history['val_loss']\n",
    " plt.figure(figsize=(15, 5))\n",
    " plt.subplot(121)\n",
    " plt.plot(range(1,epochs), acc[1:], label='Train_acc')\n",
    " plt.plot(range(1,epochs), val_acc[1:], label='Test_acc')\n",
    " plt.title('Accuracy over' + str(epochs) + 'Epochs', size=15)\n",
    " plt.legend()\n",
    " plt.grid(True)\n",
    " plt.subplot(122)\n",
    " plt.plot(range(1,epochs), loss[1:], label='Train_loss')\n",
    " plt.plot(range(1,epochs), val_loss[1:], label='Test_loss')\n",
    " plt.title('Loss over' + str(epochs) +  'Epochs', size=15)\n",
    " plt.legend()\n",
    " plt.grid(True)\n",
    " plt.show()\n",
    " \n",
    "plot_acc_loss(results, 50)"
   ]
  },
  {
   "cell_type": "markdown",
   "metadata": {},
   "source": [
    "# Let's create the Confusion Matrix"
   ]
  },
  {
   "cell_type": "code",
   "execution_count": 7,
   "metadata": {},
   "outputs": [],
   "source": [
    "from keras.models import load_model\n",
    "from keras.preprocessing import image\n",
    "import numpy as np\n",
    "import os\n",
    "from keras.preprocessing.image import img_to_array, load_img"
   ]
  },
  {
   "cell_type": "code",
   "execution_count": 8,
   "metadata": {},
   "outputs": [],
   "source": [
    "# images folder\n",
    "covid_path = 'C:\\\\Users\\\\samfr\\\\PycharmProjects\\\\upg\\\\datasets\\\\valid\\\\COVID-19'\n",
    "normal_path = 'C:\\\\Users\\\\samfr\\\\PycharmProjects\\\\upg\\\\datasets\\\\valid\\\\NORMAL'\n",
    "pneumonia_path = 'C:\\\\Users\\\\samfr\\\\PycharmProjects\\\\upg\\\\datasets\\\\valid\\\\Viral_Pneumonia'\n",
    "\n",
    "# path to model\n",
    "model_path = '/Users/samfr/PycharmProjects/upg/datasets/three_classification_problem_model_solved_VGG19_new_test.h5'\n",
    "\n",
    "# dimensions of images\n",
    "img_width, img_height = 224, 224\n",
    "\n",
    "# load the trained model\n",
    "model_loaded = load_model(model_path)\n",
    "model_loaded.compile(optimizer=Adam(learning_rate=0.0001), loss='categorical_crossentropy', metrics=['accuracy'])"
   ]
  },
  {
   "cell_type": "code",
   "execution_count": 9,
   "metadata": {},
   "outputs": [
    {
     "name": "stderr",
     "output_type": "stream",
     "text": [
      "C:\\Users\\samfr\\anaconda3\\lib\\site-packages\\tensorflow\\python\\keras\\engine\\sequential.py:450: UserWarning: `model.predict_classes()` is deprecated and will be removed after 2021-01-01. Please use instead:* `np.argmax(model.predict(x), axis=-1)`,   if your model does multi-class classification   (e.g. if it uses a `softmax` last-layer activation).* `(model.predict(x) > 0.5).astype(\"int32\")`,   if your model does binary classification   (e.g. if it uses a `sigmoid` last-layer activation).\n",
      "  warnings.warn('`model.predict_classes()` is deprecated and '\n"
     ]
    },
    {
     "data": {
      "text/plain": [
       "180"
      ]
     },
     "execution_count": 9,
     "metadata": {},
     "output_type": "execute_result"
    }
   ],
   "source": [
    "#######################################################\n",
    "## COVID-19\n",
    "# load all images into a list\n",
    "images_covid = []\n",
    "for img in os.listdir(covid_path):\n",
    "    img = os.path.join(covid_path, img)\n",
    "    img = image.load_img(img, target_size=(img_width, img_height))\n",
    "    img = image.img_to_array(img)\n",
    "    img = np.expand_dims(img, axis=0)\n",
    "    images_covid.append(img)\n",
    "    \n",
    "    # stack up images list to pass for prediction\n",
    "images_covid = np.vstack(images_covid)\n",
    "covid_pred = model_loaded.predict_classes(images_covid, batch_size=10)\n",
    "covid_len = (len(list(covid_pred)))\n",
    "covid_len"
   ]
  },
  {
   "cell_type": "code",
   "execution_count": 10,
   "metadata": {},
   "outputs": [
    {
     "data": {
      "text/plain": [
       "201"
      ]
     },
     "execution_count": 10,
     "metadata": {},
     "output_type": "execute_result"
    }
   ],
   "source": [
    "##########################################################\n",
    "##  NORMAL\n",
    "# load all images into a list\n",
    "images_normal = []\n",
    "for img in os.listdir(normal_path):\n",
    "    img = os.path.join(normal_path, img)\n",
    "    img = image.load_img(img, target_size=(img_width, img_height))\n",
    "    img = image.img_to_array(img)\n",
    "    img = np.expand_dims(img, axis=0)\n",
    "    images_normal.append(img)\n",
    "    \n",
    "    # stack up images list to pass for prediction\n",
    "images_normal = np.vstack(images_normal)\n",
    "normal_pred = model_loaded.predict_classes(images_normal, batch_size=10)\n",
    "normal_len = (len(list(normal_pred)))\n",
    "normal_len"
   ]
  },
  {
   "cell_type": "code",
   "execution_count": 11,
   "metadata": {},
   "outputs": [
    {
     "data": {
      "text/plain": [
       "202"
      ]
     },
     "execution_count": 11,
     "metadata": {},
     "output_type": "execute_result"
    }
   ],
   "source": [
    "############################################################\n",
    "## Pneumonia\n",
    "# load all images into a list\n",
    "images_pneumonia = []\n",
    "for img in os.listdir(pneumonia_path):\n",
    "    img = os.path.join(pneumonia_path, img)\n",
    "    img = image.load_img(img, target_size=(img_width, img_height))\n",
    "    img = image.img_to_array(img)\n",
    "    img = np.expand_dims(img, axis=0)\n",
    "    images_pneumonia.append(img)\n",
    "    \n",
    "    # stack up images list to pass for prediction\n",
    "images_pneumonia = np.vstack(images_pneumonia)\n",
    "pneumonia_pred = model_loaded.predict_classes(images_pneumonia, batch_size=10)\n",
    "pneumonia_len = (len(list(pneumonia_pred)))\n",
    "pneumonia_len"
   ]
  },
  {
   "cell_type": "code",
   "execution_count": 12,
   "metadata": {},
   "outputs": [],
   "source": [
    "covid_true = np.zeros((covid_len,), dtype=int)\n",
    "normal_true = np.ones((normal_len,), dtype=int)\n",
    "pneumonia_true = 2*np.ones((pneumonia_len,), dtype=int)"
   ]
  },
  {
   "cell_type": "code",
   "execution_count": 13,
   "metadata": {},
   "outputs": [
    {
     "data": {
      "text/plain": [
       "numpy.ndarray"
      ]
     },
     "execution_count": 13,
     "metadata": {},
     "output_type": "execute_result"
    }
   ],
   "source": [
    "type(pneumonia_true)"
   ]
  },
  {
   "cell_type": "code",
   "execution_count": 14,
   "metadata": {},
   "outputs": [
    {
     "data": {
      "text/plain": [
       "numpy.ndarray"
      ]
     },
     "execution_count": 14,
     "metadata": {},
     "output_type": "execute_result"
    }
   ],
   "source": [
    "type(pneumonia_pred)"
   ]
  },
  {
   "cell_type": "code",
   "execution_count": 15,
   "metadata": {},
   "outputs": [],
   "source": [
    "pred_concat = np.concatenate((covid_pred, normal_pred,pneumonia_pred), axis=0)"
   ]
  },
  {
   "cell_type": "code",
   "execution_count": 16,
   "metadata": {},
   "outputs": [],
   "source": [
    "true_concat = np.concatenate((covid_true, normal_true,pneumonia_true), axis=0)"
   ]
  },
  {
   "cell_type": "code",
   "execution_count": 17,
   "metadata": {},
   "outputs": [
    {
     "name": "stdout",
     "output_type": "stream",
     "text": [
      "Classification Report\n",
      "                 precision    recall  f1-score   support\n",
      "\n",
      "       COVID-19       0.92      0.93      0.93       180\n",
      "         NORMAL       0.93      0.85      0.89       201\n",
      "Viral_Pneumonia       0.83      0.90      0.86       202\n",
      "\n",
      "       accuracy                           0.89       583\n",
      "      macro avg       0.89      0.89      0.89       583\n",
      "   weighted avg       0.89      0.89      0.89       583\n",
      "\n"
     ]
    }
   ],
   "source": [
    "import sklearn.metrics as metrics\n",
    "\n",
    "confusion_matrix(true_concat, pred_concat)\n",
    "print('Classification Report')\n",
    "target_names = ['COVID-19','NORMAL','Viral_Pneumonia']\n",
    "print(metrics.classification_report(true_concat, pred_concat, target_names=target_names))"
   ]
  },
  {
   "cell_type": "markdown",
   "metadata": {},
   "source": [
    "## Let's plot ROC & AUC"
   ]
  },
  {
   "cell_type": "code",
   "execution_count": 33,
   "metadata": {},
   "outputs": [],
   "source": [
    "from sklearn.preprocessing import LabelBinarizer\n",
    "from sklearn.metrics import roc_curve\n",
    "from sklearn.metrics import auc\n",
    "from sklearn.metrics import roc_auc_score\n",
    "\n",
    "\n",
    "all_labels = ['COVID-19','NORMAL','Viral_Pneumonia']\n",
    "#all_labels = 3\n",
    "\n",
    "y_test = true_concat\n",
    "y_pred = pred_concat"
   ]
  },
  {
   "cell_type": "code",
   "execution_count": 42,
   "metadata": {},
   "outputs": [
    {
     "data": {
      "text/plain": [
       "0.9182339392184894"
      ]
     },
     "execution_count": 42,
     "metadata": {},
     "output_type": "execute_result"
    },
    {
     "data": {
      "image/png": "[encoded data removed]",
      "text/plain": [
       "<Figure size 576x432 with 1 Axes>"
      ]
     },
     "metadata": {
      "needs_background": "light"
     },
     "output_type": "display_data"
    }
   ],
   "source": [
    "# set plot figure size\n",
    "fig, c_ax = plt.subplots(1,1, figsize = (8, 6))\n",
    "\n",
    "def multiclass_roc_auc_score(y_test, y_pred, average=\"macro\"):\n",
    "    lb = LabelBinarizer()\n",
    "    lb.fit(y_test)\n",
    "    y_test = lb.transform(y_test)\n",
    "    y_pred = lb.transform(y_pred)\n",
    "\n",
    "    for (idx, c_label) in enumerate(all_labels): # all_labels: no of the labels, for ex. ['cat', 'dog', 'rat']\n",
    "        fpr, tpr, thresholds = roc_curve(y_test[:,idx].astype(int), y_pred[:,idx])\n",
    "        c_ax.plot(fpr, tpr, label = '%s (AUC:%0.2f)'  % (c_label, auc(fpr, tpr)))\n",
    "#    c_ax.plot(fpr, fpr, 'b-', label = 'Random Guessing')\n",
    "    return roc_auc_score(y_test, y_pred, average=average)\n",
    "\n",
    "# calling\n",
    "#true_concat.reset() # resetting generator\n",
    "# y_pred = model.predict_generator(y_test, verbose = True)\n",
    "# y_pred = np.argmax(y_pred, axis=1)\n",
    "plt.ylabel('True Positive Rate')\n",
    "plt.xlabel('False Positive Rate')\n",
    "multiclass_roc_auc_score(y_test, y_pred)"
   ]
  },
  {
   "cell_type": "code",
   "execution_count": 46,
   "metadata": {},
   "outputs": [],
   "source": [
    "import sklearn"
   ]
  },
  {
   "cell_type": "code",
   "execution_count": 20,
   "metadata": {},
   "outputs": [],
   "source": [
    "from sklearn.metrics import classification_report, confusion_matrix, accuracy_score\n",
    "#from plot_conf_matr import plot_confusion_matrix"
   ]
  },
  {
   "cell_type": "code",
   "execution_count": 21,
   "metadata": {},
   "outputs": [],
   "source": [
    "import numpy as np\n",
    "import matplotlib.pyplot as plt\n",
    "def plot_confusion_matrix(cm, classes, figname,normalize=False,title=\"Confusion matrix\",cmap=plt.cm.Blues):\n",
    "    import numpy as np\n",
    "    import matplotlib.pyplot as plt\n",
    "    import itertools\n",
    "    if normalize:\n",
    "        cm = cm.astype(\"float\") / cm.sum(axis=1)[:, np.newaxis]\n",
    "        print(\"Normalized confusion matrix\")\n",
    "    else:\n",
    "        print(\"Confusion matrix\")\n",
    "    plt.figure(figsize=(5,5))\n",
    "    plt.imshow(cm, interpolation=\"nearest\", cmap=cmap)\n",
    "    plt.title(title)\n",
    "    #plt.colorbar()\n",
    "    tick_marks = np.arange(len(classes))\n",
    "    plt.xticks(tick_marks, classes, rotation=90)\n",
    "    plt.yticks(tick_marks, classes)\n",
    "    fmt = \".2f\" if normalize else \"d\"\n",
    "    thresh = cm.max() / 2.\n",
    "    for i, j in itertools.product(range(cm.shape[0]), range(cm.shape[1])):\n",
    "        \n",
    "        plt.text(j, i, format(cm[i, j], fmt),\n",
    "        horizontalalignment=\"center\",\n",
    "        color=\"white\" if cm[i, j] > thresh else \"black\")\n",
    "        plt.ylabel(\"True label\")\n",
    "        plt.xlabel(\"Predicted label\")\n",
    "        plt.tight_layout()\n",
    "        plt.savefig(figname)\n",
    "    \n"
   ]
  },
  {
   "cell_type": "code",
   "execution_count": 22,
   "metadata": {},
   "outputs": [
    {
     "name": "stdout",
     "output_type": "stream",
     "text": [
      "Confusion matrix\n"
     ]
    },
    {
     "data": {
      "image/png": "[encoded data removed]",
      "text/plain": [
       "<Figure size 360x360 with 1 Axes>"
      ]
     },
     "metadata": {
      "needs_background": "light"
     },
     "output_type": "display_data"
    }
   ],
   "source": [
    "cm = confusion_matrix(y_test, y_pred)\n",
    "plot_confusion_matrix(cm, classes = ['COVID-19','NORMAL','Viral_Pneumonia'], title='Confusion Matrix', normalize=False, figname = 'Confusion_matrix_concrete.jpg')"
   ]
  },
  {
   "cell_type": "code",
   "execution_count": null,
   "metadata": {},
   "outputs": [],
   "source": []
  },
  {
   "cell_type": "markdown",
   "metadata": {},
   "source": [
    "# Prediction\n",
    "\n",
    "Test Dataset has been kept untouched and used below to test model performance on unseen data"
   ]
  },
  {
   "cell_type": "markdown",
   "metadata": {},
   "source": [
    "## Covid-19 Prediction Accuracy"
   ]
  },
  {
   "cell_type": "code",
   "execution_count": 22,
   "metadata": {},
   "outputs": [],
   "source": [
    "from keras.models import load_model\n",
    "from keras.preprocessing import image\n",
    "import numpy as np\n",
    "import os"
   ]
  },
  {
   "cell_type": "code",
   "execution_count": 23,
   "metadata": {},
   "outputs": [
    {
     "name": "stderr",
     "output_type": "stream",
     "text": [
      "C:\\Users\\samfr\\anaconda3\\lib\\site-packages\\tensorflow\\python\\keras\\engine\\sequential.py:450: UserWarning: `model.predict_classes()` is deprecated and will be removed after 2021-01-01. Please use instead:* `np.argmax(model.predict(x), axis=-1)`,   if your model does multi-class classification   (e.g. if it uses a `softmax` last-layer activation).* `(model.predict(x) > 0.5).astype(\"int32\")`,   if your model does binary classification   (e.g. if it uses a `sigmoid` last-layer activation).\n",
      "  warnings.warn('`model.predict_classes()` is deprecated and '\n"
     ]
    },
    {
     "name": "stdout",
     "output_type": "stream",
     "text": [
      "[0 0 0 0 0 0 0 0 0 0 0 0 0 0 0 0 0 0 0 1 0 0 0 0 0 0 0 1 0 0 0 0 0 1 0 0 0\n",
      " 0 0 0 0 0 0 0 0 0 0 0 0 0 0 0 0 0 0 0 0 0 2 0 0 0 0 0 0 0 0 2 0 0 0 0 0 0\n",
      " 0 0 0 0 0 0 0 0 0 0 0 0 0 0 0 0 0 0 0 0 0 0 0 0 0 0 0 0 0 0 0 0 2 0 0 0 0\n",
      " 0 0 0 0 0 0 0 0 0 0 0 0 0 0 0 0 0 0 0 0 0 0 0 0 0 0 0 0 0 0 0 0 0 0 0 0 0\n",
      " 0 0 0 0 0 0 0 0 0 0 0 0 0 0 0 0 0 0 0 0 0 0 0 0 2 0 0 0 0 0 0 0]\n"
     ]
    }
   ],
   "source": [
    "# image folder\n",
    "covid_path = 'C:\\\\Users\\\\samfr\\\\PycharmProjects\\\\upg\\\\datasets\\\\test\\\\COVID-19'\n",
    "# path to model\n",
    "model_path = '/Users/samfr/PycharmProjects/upg/datasets/three_classification_problem_model_solved_VGG19_new_test.h5'\n",
    "\n",
    "# dimensions of images\n",
    "img_width, img_height = 224, 224\n",
    "\n",
    "# load the trained model\n",
    "model = load_model(model_path)\n",
    "model.compile(loss='categorical_crossentropy',\n",
    "              optimizer='rmsprop',\n",
    "              metrics=['accuracy'])\n",
    "\n",
    "# load all images into a list\n",
    "images = []\n",
    "for img in os.listdir(covid_path):\n",
    "    img = os.path.join(covid_path, img)\n",
    "    img = image.load_img(img, target_size=(img_width, img_height))\n",
    "    img = image.img_to_array(img)\n",
    "    img = np.expand_dims(img, axis=0)\n",
    "    images.append(img)\n",
    "    \n",
    "    # stack up images list to pass for prediction\n",
    "images = np.vstack(images)\n",
    "classes = model.predict_classes(images, batch_size=10)\n",
    "print(classes)"
   ]
  },
  {
   "cell_type": "code",
   "execution_count": 24,
   "metadata": {},
   "outputs": [
    {
     "name": "stdout",
     "output_type": "stream",
     "text": [
      "[0, 0, 0, 0, 0, 0, 0, 0, 0, 0, 0, 0, 0, 0, 0, 0, 0, 0, 0, 1, 0, 0, 0, 0, 0, 0, 0, 1, 0, 0, 0, 0, 0, 1, 0, 0, 0, 0, 0, 0, 0, 0, 0, 0, 0, 0, 0, 0, 0, 0, 0, 0, 0, 0, 0, 0, 0, 0, 2, 0, 0, 0, 0, 0, 0, 0, 0, 2, 0, 0, 0, 0, 0, 0, 0, 0, 0, 0, 0, 0, 0, 0, 0, 0, 0, 0, 0, 0, 0, 0, 0, 0, 0, 0, 0, 0, 0, 0, 0, 0, 0, 0, 0, 0, 0, 0, 2, 0, 0, 0, 0, 0, 0, 0, 0, 0, 0, 0, 0, 0, 0, 0, 0, 0, 0, 0, 0, 0, 0, 0, 0, 0, 0, 0, 0, 0, 0, 0, 0, 0, 0, 0, 0, 0, 0, 0, 0, 0, 0, 0, 0, 0, 0, 0, 0, 0, 0, 0, 0, 0, 0, 0, 0, 0, 0, 0, 0, 0, 0, 0, 0, 0, 2, 0, 0, 0, 0, 0, 0, 0]\n"
     ]
    }
   ],
   "source": [
    "# Let's convert it to List\n",
    "pred_counter = list(classes)\n",
    "print(pred_counter)"
   ]
  },
  {
   "cell_type": "code",
   "execution_count": 25,
   "metadata": {},
   "outputs": [
    {
     "name": "stdout",
     "output_type": "stream",
     "text": [
      "96.11111111111111\n"
     ]
    }
   ],
   "source": [
    "# Let's check the accuracy od Covid-19\n",
    "\n",
    "from collections import Counter\n",
    "\n",
    "covid_occurance= Counter(pred_counter)[0]\n",
    "covid_pred_accuracy = (covid_occurance/len(pred_counter))*100\n",
    "\n",
    "print(covid_pred_accuracy)"
   ]
  },
  {
   "cell_type": "markdown",
   "metadata": {},
   "source": [
    "## Normal Prediction Accuracy"
   ]
  },
  {
   "cell_type": "code",
   "execution_count": 28,
   "metadata": {},
   "outputs": [
    {
     "name": "stderr",
     "output_type": "stream",
     "text": [
      "C:\\Users\\samfr\\anaconda3\\lib\\site-packages\\tensorflow\\python\\keras\\engine\\sequential.py:450: UserWarning: `model.predict_classes()` is deprecated and will be removed after 2021-01-01. Please use instead:* `np.argmax(model.predict(x), axis=-1)`,   if your model does multi-class classification   (e.g. if it uses a `softmax` last-layer activation).* `(model.predict(x) > 0.5).astype(\"int32\")`,   if your model does binary classification   (e.g. if it uses a `sigmoid` last-layer activation).\n",
      "  warnings.warn('`model.predict_classes()` is deprecated and '\n"
     ]
    },
    {
     "name": "stdout",
     "output_type": "stream",
     "text": [
      "[1 1 2 1 1 1 1 1 2 1 1 1 1 1 1 1 1 1 1 1 1 1 1 1 0 1 2 1 2 1 1 1 1 1 1 1 1\n",
      " 1 1 1 1 1 1 1 1 1 1 1 1 1 1 1 1 2 1 2 1 1 1 1 1 1 1 1 1 1 1 2 1 1 1 1 1 1\n",
      " 1 1 1 1 1 1 1 1 1 1 1 1 1 2 1 1 0 2 2 1 1 2 1 1 1 1 1 1 1 1 1 1 1 1 1 1 1\n",
      " 1 1 1 1 1 1 1 1 1 1 1 1 1 1 1 1 1 2 1 1 1 1 1 1 1 1 1 1 1 0 1 1 2 1 1 1 2\n",
      " 1 1 1 1 1 1 1 1 1 1 2 2 1 1 1 1 1 0 1 1 1 1 1 1 1 1 1 1 1 1 1 1 1 1 1 1 2\n",
      " 1 2 2 2 1 1 2 1 2 1 2 2 1 2 1 1]\n"
     ]
    }
   ],
   "source": [
    "# image folder\n",
    "normal_path = 'C:\\\\Users\\\\samfr\\\\PycharmProjects\\\\upg\\\\datasets\\\\test\\\\NORMAL'\n",
    "# path to model\n",
    "model_path = '/Users/samfr/PycharmProjects/upg/datasets/three_classification_problem_model_solved_VGG19_new_test.h5'\n",
    "\n",
    "# dimensions of images\n",
    "img_width, img_height = 224, 224\n",
    "\n",
    "# load the trained model\n",
    "model = load_model(model_path)\n",
    "model.compile(loss='binary_crossentropy',\n",
    "              optimizer='rmsprop',\n",
    "              metrics=['accuracy'])\n",
    "\n",
    "# load all images into a list\n",
    "images = []\n",
    "for img in os.listdir(normal_path):\n",
    "    img = os.path.join(normal_path, img)\n",
    "    img = image.load_img(img, target_size=(img_width, img_height))\n",
    "    img = image.img_to_array(img)\n",
    "    img = np.expand_dims(img, axis=0)\n",
    "    images.append(img)\n",
    "    \n",
    "    # stack up images list to pass for prediction\n",
    "images = np.vstack(images)\n",
    "classes = model.predict_classes(images, batch_size=10)\n",
    "print(classes)"
   ]
  },
  {
   "cell_type": "code",
   "execution_count": 29,
   "metadata": {},
   "outputs": [
    {
     "name": "stdout",
     "output_type": "stream",
     "text": [
      "[1, 1, 2, 1, 1, 1, 1, 1, 2, 1, 1, 1, 1, 1, 1, 1, 1, 1, 1, 1, 1, 1, 1, 1, 0, 1, 2, 1, 2, 1, 1, 1, 1, 1, 1, 1, 1, 1, 1, 1, 1, 1, 1, 1, 1, 1, 1, 1, 1, 1, 1, 1, 1, 2, 1, 2, 1, 1, 1, 1, 1, 1, 1, 1, 1, 1, 1, 2, 1, 1, 1, 1, 1, 1, 1, 1, 1, 1, 1, 1, 1, 1, 1, 1, 1, 1, 1, 2, 1, 1, 0, 2, 2, 1, 1, 2, 1, 1, 1, 1, 1, 1, 1, 1, 1, 1, 1, 1, 1, 1, 1, 1, 1, 1, 1, 1, 1, 1, 1, 1, 1, 1, 1, 1, 1, 1, 1, 1, 2, 1, 1, 1, 1, 1, 1, 1, 1, 1, 1, 1, 0, 1, 1, 2, 1, 1, 1, 2, 1, 1, 1, 1, 1, 1, 1, 1, 1, 1, 2, 2, 1, 1, 1, 1, 1, 0, 1, 1, 1, 1, 1, 1, 1, 1, 1, 1, 1, 1, 1, 1, 1, 1, 1, 1, 2, 1, 2, 2, 2, 1, 1, 2, 1, 2, 1, 2, 2, 1, 2, 1, 1]\n"
     ]
    }
   ],
   "source": [
    "# Let's convert it to List\n",
    "pred_counter = list(classes)\n",
    "print(pred_counter)"
   ]
  },
  {
   "cell_type": "code",
   "execution_count": 30,
   "metadata": {},
   "outputs": [
    {
     "name": "stdout",
     "output_type": "stream",
     "text": [
      "85.57213930348259\n"
     ]
    }
   ],
   "source": [
    "# Let's check the accuracy of Normal patients\n",
    "\n",
    "from collections import Counter\n",
    "\n",
    "normal_occurance = Counter(pred_counter)[1]\n",
    "normal_pred_accuracy = (normal_occurance/len(pred_counter))*100\n",
    "\n",
    "print(normal_pred_accuracy)"
   ]
  },
  {
   "cell_type": "code",
   "execution_count": null,
   "metadata": {},
   "outputs": [],
   "source": []
  },
  {
   "cell_type": "markdown",
   "metadata": {},
   "source": [
    "## Viral Pneumonia Prediction Accuracy"
   ]
  },
  {
   "cell_type": "code",
   "execution_count": 31,
   "metadata": {},
   "outputs": [
    {
     "name": "stdout",
     "output_type": "stream",
     "text": [
      "[1 1 1 2 2 2 2 2 0 1 2 0 2 2 2 2 2 1 0 2 1 2 2 2 2 2 2 1 2 2 2 2 2 2 2 2 2\n",
      " 2 2 1 2 2 2 1 2 2 2 2 2 2 2 2 2 2 2 2 0 2 2 2 2 2 2 2 2 2 1 1 1 2 2 2 0 2\n",
      " 2 2 2 2 1 2 2 2 2 2 2 2 2 2 2 2 2 1 2 1 2 2 1 2 2 2 1 0 2 2 2 2 2 2 2 2 2\n",
      " 2 2 2 2 2 2 2 2 2 1 2 2 1 1 2 2 2 2 2 2 2 2 2 2 1 2 2 1 2 2 2 2 1 2 2 2 2\n",
      " 2 1 2 1 2 2 2 2 2 2 1 1 2 1 2 2 2 2 1 2 2 2 2 2 2 2 1 1 1 2 2 2 2 2 2 2 2\n",
      " 2 2 2 2 2 2 2 2 2 2 2 2 1 2 2 2]\n"
     ]
    }
   ],
   "source": [
    "# image folder\n",
    "pneumonia_path = 'C:\\\\Users\\\\samfr\\\\PycharmProjects\\\\upg\\\\datasets\\\\test\\\\Viral_Pneumonia'\n",
    "# path to model\n",
    "model_path = '/Users/samfr/PycharmProjects/upg/datasets/three_classification_problem_model_solved_VGG19_new_test.h5'\n",
    "\n",
    "# dimensions of images\n",
    "img_width, img_height = 224, 224\n",
    "\n",
    "# load the trained model\n",
    "model = load_model(model_path)\n",
    "model.compile(loss='binary_crossentropy',\n",
    "              optimizer='rmsprop',\n",
    "              metrics=['accuracy'])\n",
    "\n",
    "# load all images into a list\n",
    "images = []\n",
    "for img in os.listdir(pneumonia_path):\n",
    "    img = os.path.join(pneumonia_path, img)\n",
    "    img = image.load_img(img, target_size=(img_width, img_height))\n",
    "    img = image.img_to_array(img)\n",
    "    img = np.expand_dims(img, axis=0)\n",
    "    images.append(img)\n",
    "    \n",
    "    # stack up images list to pass for prediction\n",
    "images = np.vstack(images)\n",
    "classes = model.predict_classes(images, batch_size=10)\n",
    "print(classes)"
   ]
  },
  {
   "cell_type": "code",
   "execution_count": 32,
   "metadata": {},
   "outputs": [
    {
     "name": "stdout",
     "output_type": "stream",
     "text": [
      "[1, 1, 1, 2, 2, 2, 2, 2, 0, 1, 2, 0, 2, 2, 2, 2, 2, 1, 0, 2, 1, 2, 2, 2, 2, 2, 2, 1, 2, 2, 2, 2, 2, 2, 2, 2, 2, 2, 2, 1, 2, 2, 2, 1, 2, 2, 2, 2, 2, 2, 2, 2, 2, 2, 2, 2, 0, 2, 2, 2, 2, 2, 2, 2, 2, 2, 1, 1, 1, 2, 2, 2, 0, 2, 2, 2, 2, 2, 1, 2, 2, 2, 2, 2, 2, 2, 2, 2, 2, 2, 2, 1, 2, 1, 2, 2, 1, 2, 2, 2, 1, 0, 2, 2, 2, 2, 2, 2, 2, 2, 2, 2, 2, 2, 2, 2, 2, 2, 2, 2, 1, 2, 2, 1, 1, 2, 2, 2, 2, 2, 2, 2, 2, 2, 2, 1, 2, 2, 1, 2, 2, 2, 2, 1, 2, 2, 2, 2, 2, 1, 2, 1, 2, 2, 2, 2, 2, 2, 1, 1, 2, 1, 2, 2, 2, 2, 1, 2, 2, 2, 2, 2, 2, 2, 1, 1, 1, 2, 2, 2, 2, 2, 2, 2, 2, 2, 2, 2, 2, 2, 2, 2, 2, 2, 2, 2, 2, 1, 2, 2, 2]\n"
     ]
    }
   ],
   "source": [
    "# Let's convert it to List\n",
    "pred_counter = list(classes)\n",
    "print(pred_counter)"
   ]
  },
  {
   "cell_type": "code",
   "execution_count": 42,
   "metadata": {},
   "outputs": [
    {
     "name": "stdout",
     "output_type": "stream",
     "text": [
      "80.59701492537313\n"
     ]
    }
   ],
   "source": [
    "# Let's check the accuracy of Viral Pneumonia\n",
    "\n",
    "from collections import Counter\n",
    "\n",
    "pneumonia_occurance = Counter(pred_counter)[2]\n",
    "pneumonia_pred_accuracy = (pneumonia_occurance/len(pred_counter))*100\n",
    "\n",
    "print(pneumonia_pred_accuracy)"
   ]
  },
  {
   "cell_type": "code",
   "execution_count": null,
   "metadata": {},
   "outputs": [],
   "source": []
  },
  {
   "cell_type": "code",
   "execution_count": null,
   "metadata": {},
   "outputs": [],
   "source": []
  }
 ],
 "metadata": {
  "kernelspec": {
   "display_name": "Python 3",
   "language": "python",
   "name": "python3"
  },
  "language_info": {
   "codemirror_mode": {
    "name": "ipython",
    "version": 3
   },
   "file_extension": ".py",
   "mimetype": "text/x-python",
   "name": "python",
   "nbconvert_exporter": "python",
   "pygments_lexer": "ipython3",
   "version": "3.7.6"
  }
 },
 "nbformat": 4,
 "nbformat_minor": 4
}
