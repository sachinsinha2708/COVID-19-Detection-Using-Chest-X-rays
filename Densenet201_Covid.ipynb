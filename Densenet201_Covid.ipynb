{
 "cells": [
  {
   "cell_type": "code",
   "execution_count": 35,
   "metadata": {},
   "outputs": [],
   "source": [
    "import numpy as np\n",
    "import keras\n",
    "from keras.models import Sequential\n",
    "from keras.preprocessing.image import img_to_array, load_img\n",
    "from keras.layers import Activation\n",
    "from keras.layers.core import Dense, Flatten\n",
    "from keras.optimizers import Adam\n",
    "from keras.metrics import categorical_crossentropy\n",
    "from keras.preprocessing.image import ImageDataGenerator\n",
    "from keras.layers.normalization import BatchNormalization\n",
    "from keras.layers.convolutional import Conv2D\n",
    "from keras.utils.layer_utils import count_params\n",
    "from sklearn.metrics import confusion_matrix\n",
    "import itertools\n",
    "import matplotlib.pyplot as plt\n",
    "import warnings\n",
    "warnings.simplefilter(action='ignore', category=FutureWarning)\n",
    "#%matplotlib inline"
   ]
  },
  {
   "cell_type": "markdown",
   "metadata": {},
   "source": [
    "# Model"
   ]
  },
  {
   "cell_type": "code",
   "execution_count": 36,
   "metadata": {},
   "outputs": [
    {
     "name": "stdout",
     "output_type": "stream",
     "text": [
      "C:\\Users\\samfr\\PycharmProjects\\upg\\datasets\n"
     ]
    }
   ],
   "source": [
    "import os\n",
    "os. chdir(\"C:/Users/samfr/PycharmProjects/upg/datasets\")\n",
    "print(os.getcwd())"
   ]
  },
  {
   "cell_type": "code",
   "execution_count": 37,
   "metadata": {},
   "outputs": [],
   "source": [
    "train_path = '/Users/samfr/PycharmProjects/upg/datasets/train'\n",
    "valid_path = '/Users/samfr/PycharmProjects/upg/datasets/valid'\n",
    "test_path = '/Users/samfr/PycharmProjects/upg/datasets/test'"
   ]
  },
  {
   "cell_type": "code",
   "execution_count": 38,
   "metadata": {},
   "outputs": [
    {
     "name": "stdout",
     "output_type": "stream",
     "text": [
      "Found 2721 images belonging to 3 classes.\n"
     ]
    }
   ],
   "source": [
    "train_batches = ImageDataGenerator(rescale=None,\n",
    "        rotation_range=20,\n",
    "        shear_range=0.2,\n",
    "        zoom_range=0.2,\n",
    "        horizontal_flip=True).flow_from_directory(directory=train_path, \n",
    "                            target_size=(224,224), \n",
    "                            classes=['COVID-19','NORMAL','Viral_Pneumonia'], \n",
    "                            batch_size=10)"
   ]
  },
  {
   "cell_type": "code",
   "execution_count": 39,
   "metadata": {},
   "outputs": [
    {
     "name": "stdout",
     "output_type": "stream",
     "text": [
      "Found 583 images belonging to 3 classes.\n"
     ]
    }
   ],
   "source": [
    "valid_batches = ImageDataGenerator(rescale=None,\n",
    "        rotation_range=20,\n",
    "        shear_range=0.2,\n",
    "        zoom_range=0.2,\n",
    "        horizontal_flip=True).flow_from_directory(directory=valid_path, \n",
    "                            target_size=(224,224), \n",
    "                            classes=['COVID-19','NORMAL','Viral_Pneumonia'], \n",
    "                            batch_size=10)"
   ]
  },
  {
   "cell_type": "code",
   "execution_count": 40,
   "metadata": {},
   "outputs": [
    {
     "name": "stdout",
     "output_type": "stream",
     "text": [
      "Found 582 images belonging to 3 classes.\n"
     ]
    }
   ],
   "source": [
    "test_batches = ImageDataGenerator().flow_from_directory(directory=test_path, target_size=(224,224), classes=['COVID-19','NORMAL','Viral_Pneumonia'], batch_size=10)"
   ]
  },
  {
   "cell_type": "code",
   "execution_count": 7,
   "metadata": {},
   "outputs": [],
   "source": [
    "import matplotlib.pyplot as plt\n",
    "from tensorflow.keras.applications import VGG16\n",
    "from tensorflow.keras.applications.densenet import DenseNet201\n",
    "from tensorflow.keras.layers import AveragePooling2D\n",
    "from tensorflow.keras.layers import Dropout\n",
    "from tensorflow.keras.layers import Flatten\n",
    "from tensorflow.keras.layers import Dense\n",
    "from tensorflow.keras.layers import Input\n",
    "from tensorflow.keras.models import Model\n",
    "from tensorflow.keras.optimizers import Adam"
   ]
  },
  {
   "cell_type": "code",
   "execution_count": 8,
   "metadata": {},
   "outputs": [
    {
     "name": "stdout",
     "output_type": "stream",
     "text": [
      "[INFO] compiling model...\n"
     ]
    }
   ],
   "source": [
    "baseModel = DenseNet201(input_shape=[224, 224, 3], include_top=False, weights='imagenet')\n",
    "\n",
    "# construct the head of the model that will be placed on top of the  the base model\n",
    "headModel = baseModel.output\n",
    "headModel = AveragePooling2D(pool_size=(4, 4))(headModel)\n",
    "headModel = Flatten(name=\"flatten\")(headModel)\n",
    "headModel = Dense(512, activation=\"relu\")(headModel)\n",
    "headModel = Dropout(0.5)(headModel)\n",
    "headModel = Dense(3, activation=\"softmax\")(headModel)\n",
    "\n",
    "# place the head model on top of the base model (this will become\n",
    "# the actual model we will train)\n",
    "model = Model(inputs=baseModel.input, outputs=headModel)\n",
    "\n",
    "# loop over all layers in the base model and freeze them so they will\n",
    "# *not* be updated during the first training process\n",
    "for layer in baseModel.layers:\n",
    "\tlayer.trainable = False\n",
    "\n",
    "# compile our model\n",
    "print(\"[INFO] compiling model...\")\n",
    "opt = Adam(lr=0.0001)\n",
    "model.compile(loss=\"categorical_crossentropy\", optimizer=opt,\n",
    "\tmetrics=[\"accuracy\"])"
   ]
  },
  {
   "cell_type": "code",
   "execution_count": 9,
   "metadata": {},
   "outputs": [],
   "source": [
    "from keras.models import Sequential\n",
    "from keras.layers import Dense\n",
    "from keras.callbacks import ModelCheckpoint\n",
    "\n",
    "filepath = \"three_classification_problem_model_solved_densenet201.h5\"\n",
    "\n",
    "checkpoint = ModelCheckpoint(filepath, monitor='val_accuracy', verbose=2, save_best_only=True, mode='max')\n",
    "callbacks_list = [checkpoint]"
   ]
  },
  {
   "cell_type": "code",
   "execution_count": 10,
   "metadata": {},
   "outputs": [
    {
     "name": "stdout",
     "output_type": "stream",
     "text": [
      "[INFO] training head...\n"
     ]
    },
    {
     "name": "stderr",
     "output_type": "stream",
     "text": [
      "C:\\Users\\samfr\\anaconda3\\lib\\site-packages\\tensorflow\\python\\keras\\engine\\training.py:1844: UserWarning: `Model.fit_generator` is deprecated and will be removed in a future version. Please use `Model.fit`, which supports generators.\n",
      "  warnings.warn('`Model.fit_generator` is deprecated and '\n"
     ]
    },
    {
     "name": "stdout",
     "output_type": "stream",
     "text": [
      "Epoch 1/50\n",
      "4/4 - 22s - loss: 2.2622 - accuracy: 0.2750 - val_loss: 1.2725 - val_accuracy: 0.3250\n",
      "\n",
      "Epoch 00001: val_accuracy improved from -inf to 0.32500, saving model to three_classification_problem_model_solved_densenet201.h5\n",
      "Epoch 2/50\n",
      "4/4 - 11s - loss: 1.4606 - accuracy: 0.4750 - val_loss: 1.1865 - val_accuracy: 0.4250\n",
      "\n",
      "Epoch 00002: val_accuracy improved from 0.32500 to 0.42500, saving model to three_classification_problem_model_solved_densenet201.h5\n",
      "Epoch 3/50\n",
      "4/4 - 11s - loss: 1.6534 - accuracy: 0.3750 - val_loss: 1.0979 - val_accuracy: 0.5750\n",
      "\n",
      "Epoch 00003: val_accuracy improved from 0.42500 to 0.57500, saving model to three_classification_problem_model_solved_densenet201.h5\n",
      "Epoch 4/50\n",
      "4/4 - 12s - loss: 0.8631 - accuracy: 0.6250 - val_loss: 1.0282 - val_accuracy: 0.5500\n",
      "\n",
      "Epoch 00004: val_accuracy did not improve from 0.57500\n",
      "Epoch 5/50\n",
      "4/4 - 11s - loss: 1.1030 - accuracy: 0.6000 - val_loss: 0.7809 - val_accuracy: 0.6000\n",
      "\n",
      "Epoch 00005: val_accuracy improved from 0.57500 to 0.60000, saving model to three_classification_problem_model_solved_densenet201.h5\n",
      "Epoch 6/50\n",
      "4/4 - 12s - loss: 0.9967 - accuracy: 0.5750 - val_loss: 0.6917 - val_accuracy: 0.7750\n",
      "\n",
      "Epoch 00006: val_accuracy improved from 0.60000 to 0.77500, saving model to three_classification_problem_model_solved_densenet201.h5\n",
      "Epoch 7/50\n",
      "4/4 - 11s - loss: 1.2208 - accuracy: 0.5250 - val_loss: 0.8391 - val_accuracy: 0.6250\n",
      "\n",
      "Epoch 00007: val_accuracy did not improve from 0.77500\n",
      "Epoch 8/50\n",
      "4/4 - 12s - loss: 1.1117 - accuracy: 0.6000 - val_loss: 0.6592 - val_accuracy: 0.7000\n",
      "\n",
      "Epoch 00008: val_accuracy did not improve from 0.77500\n",
      "Epoch 9/50\n",
      "4/4 - 12s - loss: 1.1251 - accuracy: 0.6000 - val_loss: 0.7797 - val_accuracy: 0.6500\n",
      "\n",
      "Epoch 00009: val_accuracy did not improve from 0.77500\n",
      "Epoch 10/50\n",
      "4/4 - 12s - loss: 0.9492 - accuracy: 0.6500 - val_loss: 0.6462 - val_accuracy: 0.7750\n",
      "\n",
      "Epoch 00010: val_accuracy did not improve from 0.77500\n",
      "Epoch 11/50\n",
      "4/4 - 12s - loss: 1.1212 - accuracy: 0.5750 - val_loss: 0.5321 - val_accuracy: 0.8500\n",
      "\n",
      "Epoch 00011: val_accuracy improved from 0.77500 to 0.85000, saving model to three_classification_problem_model_solved_densenet201.h5\n",
      "Epoch 12/50\n",
      "4/4 - 11s - loss: 0.7162 - accuracy: 0.6750 - val_loss: 0.6965 - val_accuracy: 0.7750\n",
      "\n",
      "Epoch 00012: val_accuracy did not improve from 0.85000\n",
      "Epoch 13/50\n",
      "4/4 - 12s - loss: 0.8942 - accuracy: 0.7000 - val_loss: 0.7439 - val_accuracy: 0.7500\n",
      "\n",
      "Epoch 00013: val_accuracy did not improve from 0.85000\n",
      "Epoch 14/50\n",
      "4/4 - 11s - loss: 1.2816 - accuracy: 0.6000 - val_loss: 0.7701 - val_accuracy: 0.7750\n",
      "\n",
      "Epoch 00014: val_accuracy did not improve from 0.85000\n",
      "Epoch 15/50\n",
      "4/4 - 13s - loss: 0.6268 - accuracy: 0.7250 - val_loss: 0.6748 - val_accuracy: 0.7500\n",
      "\n",
      "Epoch 00015: val_accuracy did not improve from 0.85000\n",
      "Epoch 16/50\n",
      "4/4 - 11s - loss: 1.0271 - accuracy: 0.5250 - val_loss: 0.5046 - val_accuracy: 0.8750\n",
      "\n",
      "Epoch 00016: val_accuracy improved from 0.85000 to 0.87500, saving model to three_classification_problem_model_solved_densenet201.h5\n",
      "Epoch 17/50\n",
      "4/4 - 12s - loss: 0.8438 - accuracy: 0.6500 - val_loss: 0.7557 - val_accuracy: 0.7750\n",
      "\n",
      "Epoch 00017: val_accuracy did not improve from 0.87500\n",
      "Epoch 18/50\n",
      "4/4 - 12s - loss: 0.8920 - accuracy: 0.6500 - val_loss: 0.3576 - val_accuracy: 0.9250\n",
      "\n",
      "Epoch 00018: val_accuracy improved from 0.87500 to 0.92500, saving model to three_classification_problem_model_solved_densenet201.h5\n",
      "Epoch 19/50\n",
      "4/4 - 12s - loss: 0.8650 - accuracy: 0.6500 - val_loss: 0.7351 - val_accuracy: 0.7000\n",
      "\n",
      "Epoch 00019: val_accuracy did not improve from 0.92500\n",
      "Epoch 20/50\n",
      "4/4 - 12s - loss: 0.9516 - accuracy: 0.6250 - val_loss: 0.3985 - val_accuracy: 0.8500\n",
      "\n",
      "Epoch 00020: val_accuracy did not improve from 0.92500\n",
      "Epoch 21/50\n",
      "4/4 - 13s - loss: 0.6230 - accuracy: 0.8500 - val_loss: 0.5965 - val_accuracy: 0.7500\n",
      "\n",
      "Epoch 00021: val_accuracy did not improve from 0.92500\n",
      "Epoch 22/50\n",
      "4/4 - 12s - loss: 0.7856 - accuracy: 0.7500 - val_loss: 0.5664 - val_accuracy: 0.7750\n",
      "\n",
      "Epoch 00022: val_accuracy did not improve from 0.92500\n",
      "Epoch 23/50\n",
      "4/4 - 11s - loss: 1.0540 - accuracy: 0.5484 - val_loss: 0.4670 - val_accuracy: 0.7750\n",
      "\n",
      "Epoch 00023: val_accuracy did not improve from 0.92500\n",
      "Epoch 24/50\n",
      "4/4 - 12s - loss: 0.9120 - accuracy: 0.6500 - val_loss: 0.3483 - val_accuracy: 0.8250\n",
      "\n",
      "Epoch 00024: val_accuracy did not improve from 0.92500\n",
      "Epoch 25/50\n",
      "4/4 - 12s - loss: 0.7016 - accuracy: 0.7000 - val_loss: 0.6976 - val_accuracy: 0.8000\n",
      "\n",
      "Epoch 00025: val_accuracy did not improve from 0.92500\n",
      "Epoch 26/50\n",
      "4/4 - 12s - loss: 1.0490 - accuracy: 0.5750 - val_loss: 0.5297 - val_accuracy: 0.7750\n",
      "\n",
      "Epoch 00026: val_accuracy did not improve from 0.92500\n",
      "Epoch 27/50\n",
      "4/4 - 12s - loss: 0.5804 - accuracy: 0.8000 - val_loss: 0.6535 - val_accuracy: 0.7750\n",
      "\n",
      "Epoch 00027: val_accuracy did not improve from 0.92500\n",
      "Epoch 28/50\n",
      "4/4 - 12s - loss: 0.7187 - accuracy: 0.6750 - val_loss: 0.4646 - val_accuracy: 0.9250\n",
      "\n",
      "Epoch 00028: val_accuracy did not improve from 0.92500\n",
      "Epoch 29/50\n",
      "4/4 - 12s - loss: 0.7338 - accuracy: 0.7750 - val_loss: 0.3986 - val_accuracy: 0.8500\n",
      "\n",
      "Epoch 00029: val_accuracy did not improve from 0.92500\n",
      "Epoch 30/50\n",
      "4/4 - 12s - loss: 0.5627 - accuracy: 0.8000 - val_loss: 0.4765 - val_accuracy: 0.8250\n",
      "\n",
      "Epoch 00030: val_accuracy did not improve from 0.92500\n",
      "Epoch 31/50\n",
      "4/4 - 12s - loss: 0.7259 - accuracy: 0.7000 - val_loss: 0.3675 - val_accuracy: 0.8500\n",
      "\n",
      "Epoch 00031: val_accuracy did not improve from 0.92500\n",
      "Epoch 32/50\n",
      "4/4 - 13s - loss: 0.6830 - accuracy: 0.7500 - val_loss: 0.4668 - val_accuracy: 0.8750\n",
      "\n",
      "Epoch 00032: val_accuracy did not improve from 0.92500\n",
      "Epoch 33/50\n",
      "4/4 - 12s - loss: 0.8230 - accuracy: 0.7750 - val_loss: 0.7893 - val_accuracy: 0.7500\n",
      "\n",
      "Epoch 00033: val_accuracy did not improve from 0.92500\n",
      "Epoch 34/50\n",
      "4/4 - 12s - loss: 0.5831 - accuracy: 0.8000 - val_loss: 0.4716 - val_accuracy: 0.7250\n",
      "\n",
      "Epoch 00034: val_accuracy did not improve from 0.92500\n",
      "Epoch 35/50\n",
      "4/4 - 12s - loss: 0.8261 - accuracy: 0.7500 - val_loss: 0.6193 - val_accuracy: 0.7250\n",
      "\n",
      "Epoch 00035: val_accuracy did not improve from 0.92500\n",
      "Epoch 36/50\n",
      "4/4 - 12s - loss: 0.9049 - accuracy: 0.6500 - val_loss: 0.4575 - val_accuracy: 0.8000\n",
      "\n",
      "Epoch 00036: val_accuracy did not improve from 0.92500\n",
      "Epoch 37/50\n",
      "4/4 - 12s - loss: 0.6650 - accuracy: 0.7250 - val_loss: 0.4145 - val_accuracy: 0.8500\n",
      "\n",
      "Epoch 00037: val_accuracy did not improve from 0.92500\n",
      "Epoch 38/50\n",
      "4/4 - 12s - loss: 0.7789 - accuracy: 0.7250 - val_loss: 0.5854 - val_accuracy: 0.8000\n",
      "\n",
      "Epoch 00038: val_accuracy did not improve from 0.92500\n",
      "Epoch 39/50\n",
      "4/4 - 12s - loss: 0.4093 - accuracy: 0.8250 - val_loss: 0.3122 - val_accuracy: 0.9250\n",
      "\n",
      "Epoch 00039: val_accuracy did not improve from 0.92500\n",
      "Epoch 40/50\n",
      "4/4 - 12s - loss: 0.4196 - accuracy: 0.8750 - val_loss: 0.5444 - val_accuracy: 0.8000\n",
      "\n",
      "Epoch 00040: val_accuracy did not improve from 0.92500\n",
      "Epoch 41/50\n",
      "4/4 - 12s - loss: 0.3761 - accuracy: 0.8250 - val_loss: 0.3741 - val_accuracy: 0.8500\n",
      "\n",
      "Epoch 00041: val_accuracy did not improve from 0.92500\n",
      "Epoch 42/50\n",
      "4/4 - 12s - loss: 0.5522 - accuracy: 0.8500 - val_loss: 0.2607 - val_accuracy: 0.9750\n",
      "\n",
      "Epoch 00042: val_accuracy improved from 0.92500 to 0.97500, saving model to three_classification_problem_model_solved_densenet201.h5\n",
      "Epoch 43/50\n",
      "4/4 - 12s - loss: 0.2117 - accuracy: 0.9750 - val_loss: 0.6338 - val_accuracy: 0.7750\n",
      "\n",
      "Epoch 00043: val_accuracy did not improve from 0.97500\n",
      "Epoch 44/50\n",
      "4/4 - 12s - loss: 0.2820 - accuracy: 0.9500 - val_loss: 0.6605 - val_accuracy: 0.6750\n",
      "\n",
      "Epoch 00044: val_accuracy did not improve from 0.97500\n",
      "Epoch 45/50\n",
      "4/4 - 12s - loss: 0.6148 - accuracy: 0.6500 - val_loss: 0.6300 - val_accuracy: 0.8250\n",
      "\n",
      "Epoch 00045: val_accuracy did not improve from 0.97500\n",
      "Epoch 46/50\n",
      "4/4 - 12s - loss: 0.4622 - accuracy: 0.8500 - val_loss: 0.4955 - val_accuracy: 0.8000\n",
      "\n",
      "Epoch 00046: val_accuracy did not improve from 0.97500\n",
      "Epoch 47/50\n",
      "4/4 - 12s - loss: 0.5936 - accuracy: 0.7750 - val_loss: 0.6733 - val_accuracy: 0.7500\n",
      "\n",
      "Epoch 00047: val_accuracy did not improve from 0.97500\n",
      "Epoch 48/50\n",
      "4/4 - 12s - loss: 0.7839 - accuracy: 0.6500 - val_loss: 0.3245 - val_accuracy: 0.9000\n",
      "\n",
      "Epoch 00048: val_accuracy did not improve from 0.97500\n",
      "Epoch 49/50\n",
      "4/4 - 12s - loss: 0.5617 - accuracy: 0.7250 - val_loss: 0.4211 - val_accuracy: 0.8000\n",
      "\n",
      "Epoch 00049: val_accuracy did not improve from 0.97500\n",
      "Epoch 50/50\n"
     ]
    },
    {
     "name": "stdout",
     "output_type": "stream",
     "text": [
      "4/4 - 12s - loss: 0.5946 - accuracy: 0.7000 - val_loss: 0.3162 - val_accuracy: 0.9000\n",
      "\n",
      "Epoch 00050: val_accuracy did not improve from 0.97500\n"
     ]
    }
   ],
   "source": [
    "\n",
    "# train the head of the network\n",
    "print(\"[INFO] training head...\")\n",
    "results = model.fit_generator(generator=train_batches, steps_per_epoch=4,\n",
    "                    validation_data=valid_batches, validation_steps=4, epochs=50, verbose=2, callbacks = callbacks_list)\n",
    "\n",
    "#model.save('three_classification_problem_model_solved_densenet201.h5')"
   ]
  },
  {
   "cell_type": "code",
   "execution_count": 11,
   "metadata": {},
   "outputs": [
    {
     "data": {
      "image/png": "[encoded data removed]",
      "text/plain": [
       "<Figure size 1080x360 with 2 Axes>"
      ]
     },
     "metadata": {
      "needs_background": "light"
     },
     "output_type": "display_data"
    }
   ],
   "source": [
    "import matplotlib.pyplot as plt\n",
    "def plot_acc_loss(results, epochs):\n",
    " acc = results.history['accuracy']\n",
    " loss = results.history['loss']\n",
    " val_acc = results.history['val_accuracy']\n",
    " val_loss = results.history['val_loss']\n",
    " plt.figure(figsize=(15, 5))\n",
    " plt.subplot(121)\n",
    " plt.plot(range(1,epochs), acc[1:], label='Train_acc')\n",
    " plt.plot(range(1,epochs), val_acc[1:], label='Test_acc')\n",
    " plt.title('Accuracy over' + str(epochs) + 'Epochs', size=15)\n",
    " plt.legend()\n",
    " plt.grid(True)\n",
    " plt.subplot(122)\n",
    " plt.plot(range(1,epochs), loss[1:], label='Train_loss')\n",
    " plt.plot(range(1,epochs), val_loss[1:], label='Test_loss')\n",
    " plt.title('Loss over' + str(epochs) +  'Epochs', size=15)\n",
    " plt.legend()\n",
    " plt.grid(True)\n",
    " plt.show()\n",
    " \n",
    "plot_acc_loss(results, 50)"
   ]
  },
  {
   "cell_type": "markdown",
   "metadata": {},
   "source": [
    "# Let's create the Confusion Matrix"
   ]
  },
  {
   "cell_type": "code",
   "execution_count": 41,
   "metadata": {},
   "outputs": [],
   "source": [
    "from keras.models import load_model\n",
    "from keras.preprocessing import image\n",
    "import numpy as np\n",
    "import os\n",
    "from keras.preprocessing.image import img_to_array, load_img"
   ]
  },
  {
   "cell_type": "code",
   "execution_count": 42,
   "metadata": {},
   "outputs": [],
   "source": [
    "# images folder\n",
    "covid_path = 'C:\\\\Users\\\\samfr\\\\PycharmProjects\\\\upg\\\\datasets\\\\valid\\\\COVID-19'\n",
    "normal_path = 'C:\\\\Users\\\\samfr\\\\PycharmProjects\\\\upg\\\\datasets\\\\valid\\\\NORMAL'\n",
    "pneumonia_path = 'C:\\\\Users\\\\samfr\\\\PycharmProjects\\\\upg\\\\datasets\\\\valid\\\\Viral_Pneumonia'\n",
    "\n",
    "# path to model\n",
    "model_path = '/Users/samfr/PycharmProjects/upg/datasets/three_classification_problem_model_solved_densenet201.h5'\n",
    "\n",
    "# dimensions of images\n",
    "img_width, img_height = 224, 224\n",
    "\n",
    "# load the trained model\n",
    "model_loaded = load_model(model_path)\n",
    "model_loaded.compile(optimizer=Adam(learning_rate=0.0001), loss='categorical_crossentropy', metrics=['accuracy'])"
   ]
  },
  {
   "cell_type": "code",
   "execution_count": 43,
   "metadata": {},
   "outputs": [
    {
     "data": {
      "text/plain": [
       "180"
      ]
     },
     "execution_count": 43,
     "metadata": {},
     "output_type": "execute_result"
    }
   ],
   "source": [
    "#######################################################\n",
    "## COVID-19\n",
    "# load all images into a list\n",
    "images_covid = []\n",
    "for img in os.listdir(covid_path):\n",
    "    img = os.path.join(covid_path, img)\n",
    "    img = image.load_img(img, target_size=(img_width, img_height))\n",
    "    img = image.img_to_array(img)\n",
    "    img = np.expand_dims(img, axis=0)\n",
    "    images_covid.append(img)\n",
    "    \n",
    "    # stack up images list to pass for prediction\n",
    "images_covid = np.vstack(images_covid)\n",
    "covid_pred = model_loaded.predict(images_covid, batch_size=10)\n",
    "covid_pred = np.argmax(covid_pred,axis=1)\n",
    "covid_len = (len(list(covid_pred)))\n",
    "covid_len"
   ]
  },
  {
   "cell_type": "code",
   "execution_count": 44,
   "metadata": {},
   "outputs": [
    {
     "data": {
      "text/plain": [
       "201"
      ]
     },
     "execution_count": 44,
     "metadata": {},
     "output_type": "execute_result"
    }
   ],
   "source": [
    "##########################################################\n",
    "##  NORMAL\n",
    "# load all images into a list\n",
    "images_normal = []\n",
    "for img in os.listdir(normal_path):\n",
    "    img = os.path.join(normal_path, img)\n",
    "    img = image.load_img(img, target_size=(img_width, img_height))\n",
    "    img = image.img_to_array(img)\n",
    "    img = np.expand_dims(img, axis=0)\n",
    "    images_normal.append(img)\n",
    "    \n",
    "    # stack up images list to pass for prediction\n",
    "images_normal = np.vstack(images_normal)\n",
    "normal_pred = model_loaded.predict(images_normal, batch_size=10)\n",
    "normal_pred = np.argmax(normal_pred,axis=1)\n",
    "normal_len = (len(list(normal_pred)))\n",
    "normal_len"
   ]
  },
  {
   "cell_type": "code",
   "execution_count": 45,
   "metadata": {},
   "outputs": [
    {
     "data": {
      "text/plain": [
       "202"
      ]
     },
     "execution_count": 45,
     "metadata": {},
     "output_type": "execute_result"
    }
   ],
   "source": [
    "############################################################\n",
    "## Pneumonia\n",
    "# load all images into a list\n",
    "images_pneumonia = []\n",
    "for img in os.listdir(pneumonia_path):\n",
    "    img = os.path.join(pneumonia_path, img)\n",
    "    img = image.load_img(img, target_size=(img_width, img_height))\n",
    "    img = image.img_to_array(img)\n",
    "    img = np.expand_dims(img, axis=0)\n",
    "    images_pneumonia.append(img)\n",
    "    \n",
    "    # stack up images list to pass for prediction\n",
    "images_pneumonia = np.vstack(images_pneumonia)\n",
    "pneumonia_pred = model_loaded.predict(images_pneumonia, batch_size=10)\n",
    "pneumonia_pred = np.argmax(pneumonia_pred,axis=1)\n",
    "pneumonia_len = (len(list(pneumonia_pred)))\n",
    "pneumonia_len"
   ]
  },
  {
   "cell_type": "code",
   "execution_count": null,
   "metadata": {},
   "outputs": [],
   "source": []
  },
  {
   "cell_type": "code",
   "execution_count": 46,
   "metadata": {},
   "outputs": [],
   "source": [
    "covid_true = np.zeros((covid_len,), dtype=int)\n",
    "normal_true = np.ones((normal_len,), dtype=int)\n",
    "pneumonia_true = 2*np.ones((pneumonia_len,), dtype=int)"
   ]
  },
  {
   "cell_type": "code",
   "execution_count": 47,
   "metadata": {},
   "outputs": [
    {
     "data": {
      "text/plain": [
       "numpy.ndarray"
      ]
     },
     "execution_count": 47,
     "metadata": {},
     "output_type": "execute_result"
    }
   ],
   "source": [
    "type(pneumonia_true)"
   ]
  },
  {
   "cell_type": "code",
   "execution_count": 48,
   "metadata": {},
   "outputs": [
    {
     "data": {
      "text/plain": [
       "numpy.ndarray"
      ]
     },
     "execution_count": 48,
     "metadata": {},
     "output_type": "execute_result"
    }
   ],
   "source": [
    "type(pneumonia_pred)"
   ]
  },
  {
   "cell_type": "code",
   "execution_count": 49,
   "metadata": {},
   "outputs": [],
   "source": [
    "pred_concat = np.concatenate((covid_pred, normal_pred,pneumonia_pred), axis=0)"
   ]
  },
  {
   "cell_type": "code",
   "execution_count": 50,
   "metadata": {},
   "outputs": [],
   "source": [
    "true_concat = np.concatenate((covid_true, normal_true,pneumonia_true), axis=0)"
   ]
  },
  {
   "cell_type": "code",
   "execution_count": 51,
   "metadata": {},
   "outputs": [
    {
     "name": "stdout",
     "output_type": "stream",
     "text": [
      "Classification Report\n",
      "                 precision    recall  f1-score   support\n",
      "\n",
      "       COVID-19       0.99      0.74      0.84       180\n",
      "         NORMAL       0.65      0.74      0.69       201\n",
      "Viral_Pneumonia       0.60      0.65      0.62       202\n",
      "\n",
      "       accuracy                           0.71       583\n",
      "      macro avg       0.74      0.71      0.72       583\n",
      "   weighted avg       0.73      0.71      0.71       583\n",
      "\n"
     ]
    }
   ],
   "source": [
    "import sklearn.metrics as metrics\n",
    "\n",
    "confusion_matrix(true_concat, pred_concat)\n",
    "print('Classification Report')\n",
    "target_names = ['COVID-19','NORMAL','Viral_Pneumonia']\n",
    "print(metrics.classification_report(true_concat, pred_concat, target_names=target_names))"
   ]
  },
  {
   "cell_type": "markdown",
   "metadata": {},
   "source": [
    "## Let's plot ROC & AUC"
   ]
  },
  {
   "cell_type": "code",
   "execution_count": 52,
   "metadata": {},
   "outputs": [],
   "source": [
    "from sklearn.preprocessing import LabelBinarizer\n",
    "from sklearn.metrics import roc_curve\n",
    "from sklearn.metrics import auc\n",
    "from sklearn.metrics import roc_auc_score\n",
    "\n",
    "\n",
    "all_labels = ['COVID-19','NORMAL','Viral_Pneumonia']\n",
    "\n",
    "y_test = true_concat\n",
    "y_pred = pred_concat"
   ]
  },
  {
   "cell_type": "code",
   "execution_count": 53,
   "metadata": {},
   "outputs": [
    {
     "data": {
      "text/plain": [
       "0.7792910592920386"
      ]
     },
     "execution_count": 53,
     "metadata": {},
     "output_type": "execute_result"
    },
    {
     "data": {
      "image/png": "[encoded data removed]",
      "text/plain": [
       "<Figure size 864x576 with 1 Axes>"
      ]
     },
     "metadata": {
      "needs_background": "light"
     },
     "output_type": "display_data"
    }
   ],
   "source": [
    "# set plot figure size\n",
    "fig, c_ax = plt.subplots(1,1, figsize = (12, 8))\n",
    "\n",
    "def multiclass_roc_auc_score(y_test, y_pred, average=\"macro\"):\n",
    "    lb = LabelBinarizer()\n",
    "    lb.fit(y_test)\n",
    "    y_test = lb.transform(y_test)\n",
    "    y_pred = lb.transform(y_pred)\n",
    "\n",
    "    for (idx, c_label) in enumerate(all_labels): # all_labels: no of the labels, for ex. ['cat', 'dog', 'rat']\n",
    "        fpr, tpr, thresholds = roc_curve(y_test[:,idx].astype(int), y_pred[:,idx])\n",
    "        c_ax.plot(fpr, tpr, label = '%s (AUC:%0.2f)'  % (c_label, auc(fpr, tpr)))\n",
    "    c_ax.plot(fpr, fpr, 'b-', label = 'Random Guessing')\n",
    "    return roc_auc_score(y_test, y_pred, average=average)\n",
    "\n",
    "# calling\n",
    "#true_concat.reset() # resetting generator\n",
    "# y_pred = model.predict_generator(y_test, verbose = True)\n",
    "# y_pred = np.argmax(y_pred, axis=1)\n",
    "multiclass_roc_auc_score(y_test, y_pred)"
   ]
  },
  {
   "cell_type": "code",
   "execution_count": null,
   "metadata": {},
   "outputs": [],
   "source": []
  },
  {
   "cell_type": "code",
   "execution_count": 54,
   "metadata": {},
   "outputs": [],
   "source": [
    "from sklearn.metrics import classification_report, confusion_matrix, accuracy_score\n",
    "#from plot_conf_matr import plot_confusion_matrix"
   ]
  },
  {
   "cell_type": "code",
   "execution_count": 57,
   "metadata": {},
   "outputs": [],
   "source": [
    "import numpy as np\n",
    "import matplotlib.pyplot as plt\n",
    "def plot_confusion_matrix(cm, classes, figname,normalize=False,title=\"Confusion matrix\",cmap=plt.cm.Blues):\n",
    "    import numpy as np\n",
    "    import matplotlib.pyplot as plt\n",
    "    import itertools\n",
    "    if normalize:\n",
    "        cm = cm.astype(\"float\") / cm.sum(axis=1)[:, np.newaxis]\n",
    "        print(\"Normalized confusion matrix\")\n",
    "    else:\n",
    "        print(\"Confusion matrix\")\n",
    "    plt.figure(figsize=(5,5))\n",
    "    plt.imshow(cm, interpolation=\"nearest\", cmap=cmap)\n",
    "    plt.title(title)\n",
    "    #plt.colorbar()\n",
    "    tick_marks = np.arange(len(classes))\n",
    "    plt.xticks(tick_marks, classes, rotation=90)\n",
    "    plt.yticks(tick_marks, classes)\n",
    "    fmt = \".2f\" if normalize else \"d\"\n",
    "    thresh = cm.max() / 2.\n",
    "    for i, j in itertools.product(range(cm.shape[0]), range(cm.shape[1])):\n",
    "        \n",
    "        plt.text(j, i, format(cm[i, j], fmt),\n",
    "        horizontalalignment=\"center\",\n",
    "        color=\"white\" if cm[i, j] > thresh else \"black\")\n",
    "        plt.ylabel(\"True label\")\n",
    "        plt.xlabel(\"Predicted label\")\n",
    "        plt.tight_layout()\n",
    "        plt.savefig(figname)\n",
    "    \n"
   ]
  },
  {
   "cell_type": "code",
   "execution_count": 58,
   "metadata": {},
   "outputs": [
    {
     "name": "stdout",
     "output_type": "stream",
     "text": [
      "Confusion matrix\n"
     ]
    },
    {
     "data": {
      "image/png": "[encoded data removed]",
      "text/plain": [
       "<Figure size 360x360 with 1 Axes>"
      ]
     },
     "metadata": {
      "needs_background": "light"
     },
     "output_type": "display_data"
    }
   ],
   "source": [
    "cm = confusion_matrix(y_test, y_pred)\n",
    "plot_confusion_matrix(cm, classes = ['COVID-19','NORMAL','Viral_Pneumonia'], title='Confusion Matrix', normalize=False, figname = 'Confusion_matrix_concrete.jpg')"
   ]
  },
  {
   "cell_type": "code",
   "execution_count": null,
   "metadata": {},
   "outputs": [],
   "source": []
  },
  {
   "cell_type": "code",
   "execution_count": null,
   "metadata": {},
   "outputs": [],
   "source": []
  },
  {
   "cell_type": "markdown",
   "metadata": {},
   "source": [
    "# Prediction\n",
    "\n",
    "Test Dataset has been kept untouched and used below to test model performance on unseen data"
   ]
  },
  {
   "cell_type": "markdown",
   "metadata": {},
   "source": [
    "## Covid-19 Prediction Accuracy"
   ]
  },
  {
   "cell_type": "code",
   "execution_count": 18,
   "metadata": {},
   "outputs": [],
   "source": [
    "from keras.models import load_model\n",
    "from keras.preprocessing import image\n",
    "import numpy as np\n",
    "import os"
   ]
  },
  {
   "cell_type": "code",
   "execution_count": 19,
   "metadata": {},
   "outputs": [],
   "source": [
    "# image folder\n",
    "covid_path = 'C:\\\\Users\\\\samfr\\\\PycharmProjects\\\\upg\\\\datasets\\\\test\\\\COVID-19'\n",
    "# path to model\n",
    "model_path = '/Users/samfr/PycharmProjects/upg/datasets/three_classification_problem_model_solved_densenet201.h5'\n",
    "\n",
    "# dimensions of images\n",
    "img_width, img_height = 224, 224\n",
    "\n",
    "# load the trained model\n",
    "model = load_model(model_path)\n",
    "model.compile(optimizer=Adam(learning_rate=0.0001), loss='categorical_crossentropy', metrics=['accuracy'])\n",
    "\n",
    "# load all images into a list\n",
    "images = []\n",
    "for img in os.listdir(covid_path):\n",
    "    img = os.path.join(covid_path, img)\n",
    "    img = image.load_img(img, target_size=(img_width, img_height))\n",
    "    img = image.img_to_array(img)\n",
    "    img = np.expand_dims(img, axis=0)\n",
    "    images.append(img)\n",
    "    "
   ]
  },
  {
   "cell_type": "code",
   "execution_count": 20,
   "metadata": {},
   "outputs": [
    {
     "name": "stdout",
     "output_type": "stream",
     "text": [
      "[2 0 0 2 1 0 0 2 0 1 0 1 2 0 2 2 1 1 0 0 0 0 0 0 0 0 0 1 2 1 0 0 0 0 0 0 0\n",
      " 0 0 0 0 0 0 0 0 0 0 1 1 2 0 0 0 0 0 0 0 0 0 0 0 0 0 0 2 1 0 0 0 0 0 0 0 0\n",
      " 0 0 0 2 2 0 0 1 0 0 0 0 0 0 0 0 0 2 0 0 1 0 0 0 0 0 0 0 0 0 0 0 1 0 0 2 0\n",
      " 0 0 0 0 0 0 0 0 1 0 0 1 1 0 0 0 0 0 0 0 0 0 2 1 2 0 0 1 0 0 0 0 0 0 2 0 0\n",
      " 0 0 1 0 0 0 0 1 0 0 2 1 0 2 0 0 2 0 2 2 0 2 0 0 1 0 0 0 2 0 0 0]\n"
     ]
    }
   ],
   "source": [
    "# stack up images list to pass for prediction\n",
    "images = np.vstack(images)\n",
    "classes = model.predict(images, batch_size=10)\n",
    "classes = np.argmax(classes,axis=1)\n",
    "print(classes)"
   ]
  },
  {
   "cell_type": "code",
   "execution_count": 21,
   "metadata": {},
   "outputs": [
    {
     "name": "stdout",
     "output_type": "stream",
     "text": [
      "[2, 0, 0, 2, 1, 0, 0, 2, 0, 1, 0, 1, 2, 0, 2, 2, 1, 1, 0, 0, 0, 0, 0, 0, 0, 0, 0, 1, 2, 1, 0, 0, 0, 0, 0, 0, 0, 0, 0, 0, 0, 0, 0, 0, 0, 0, 0, 1, 1, 2, 0, 0, 0, 0, 0, 0, 0, 0, 0, 0, 0, 0, 0, 0, 2, 1, 0, 0, 0, 0, 0, 0, 0, 0, 0, 0, 0, 2, 2, 0, 0, 1, 0, 0, 0, 0, 0, 0, 0, 0, 0, 2, 0, 0, 1, 0, 0, 0, 0, 0, 0, 0, 0, 0, 0, 0, 1, 0, 0, 2, 0, 0, 0, 0, 0, 0, 0, 0, 0, 1, 0, 0, 1, 1, 0, 0, 0, 0, 0, 0, 0, 0, 0, 2, 1, 2, 0, 0, 1, 0, 0, 0, 0, 0, 0, 2, 0, 0, 0, 0, 1, 0, 0, 0, 0, 1, 0, 0, 2, 1, 0, 2, 0, 0, 2, 0, 2, 2, 0, 2, 0, 0, 1, 0, 0, 0, 2, 0, 0, 0]\n"
     ]
    }
   ],
   "source": [
    "# Let's convert it to List\n",
    "pred_counter = list(classes)\n",
    "print(pred_counter)"
   ]
  },
  {
   "cell_type": "code",
   "execution_count": 22,
   "metadata": {},
   "outputs": [
    {
     "name": "stdout",
     "output_type": "stream",
     "text": [
      "75.0\n"
     ]
    }
   ],
   "source": [
    "# Let's check the accuracy od Covid-19\n",
    "\n",
    "from collections import Counter\n",
    "\n",
    "covid_occurance= Counter(pred_counter)[0]\n",
    "covid_pred_accuracy = (covid_occurance/len(pred_counter))*100\n",
    "\n",
    "print(covid_pred_accuracy)"
   ]
  },
  {
   "cell_type": "markdown",
   "metadata": {},
   "source": [
    "## Normal Prediction Accuracy"
   ]
  },
  {
   "cell_type": "code",
   "execution_count": 23,
   "metadata": {},
   "outputs": [
    {
     "name": "stdout",
     "output_type": "stream",
     "text": [
      "[1 1 2 1 1 1 1 1 2 1 1 1 1 1 1 1 1 1 1 1 1 1 2 1 1 1 1 1 2 1 1 2 1 1 1 1 1\n",
      " 1 1 1 1 1 2 1 1 1 1 2 1 1 1 1 1 2 1 1 1 1 1 1 2 1 1 2 2 1 2 2 1 1 2 1 1 2\n",
      " 2 1 1 1 1 1 2 1 1 1 1 1 1 1 1 2 1 2 1 1 2 1 1 1 1 1 2 1 1 2 2 1 1 1 2 1 2\n",
      " 1 1 1 1 1 1 2 1 1 1 1 1 1 1 1 2 1 2 1 1 1 2 2 1 1 1 1 1 2 1 1 1 1 1 1 1 1\n",
      " 1 1 1 1 1 1 1 1 1 1 1 1 1 1 1 1 1 1 1 2 1 1 1 1 1 1 1 1 2 1 2 1 1 1 1 1 1\n",
      " 1 2 2 1 2 1 2 1 1 1 2 2 2 2 1 1]\n"
     ]
    }
   ],
   "source": [
    "# image folder\n",
    "normal_path = 'C:\\\\Users\\\\samfr\\\\PycharmProjects\\\\upg\\\\datasets\\\\test\\\\NORMAL'\n",
    "# path to model\n",
    "model_path = '/Users/samfr/PycharmProjects/upg/datasets/three_classification_problem_model_solved_densenet201.h5'\n",
    "\n",
    "# dimensions of images\n",
    "img_width, img_height = 224, 224\n",
    "\n",
    "# load the trained model\n",
    "model = load_model(model_path)\n",
    "model.compile(loss='categorical_crossentropy',\n",
    "              optimizer='rmsprop',\n",
    "              metrics=['accuracy'])\n",
    "\n",
    "# load all images into a list\n",
    "images = []\n",
    "for img in os.listdir(normal_path):\n",
    "    img = os.path.join(normal_path, img)\n",
    "    img = image.load_img(img, target_size=(img_width, img_height))\n",
    "    img = image.img_to_array(img)\n",
    "    img = np.expand_dims(img, axis=0)\n",
    "    images.append(img)\n",
    "    \n",
    "    # stack up images list to pass for prediction\n",
    "images = np.vstack(images)\n",
    "classes = model.predict(images, batch_size=10)\n",
    "classes = np.argmax(classes,axis=1)\n",
    "print(classes)"
   ]
  },
  {
   "cell_type": "code",
   "execution_count": 24,
   "metadata": {},
   "outputs": [
    {
     "name": "stdout",
     "output_type": "stream",
     "text": [
      "[1, 1, 2, 1, 1, 1, 1, 1, 2, 1, 1, 1, 1, 1, 1, 1, 1, 1, 1, 1, 1, 1, 2, 1, 1, 1, 1, 1, 2, 1, 1, 2, 1, 1, 1, 1, 1, 1, 1, 1, 1, 1, 2, 1, 1, 1, 1, 2, 1, 1, 1, 1, 1, 2, 1, 1, 1, 1, 1, 1, 2, 1, 1, 2, 2, 1, 2, 2, 1, 1, 2, 1, 1, 2, 2, 1, 1, 1, 1, 1, 2, 1, 1, 1, 1, 1, 1, 1, 1, 2, 1, 2, 1, 1, 2, 1, 1, 1, 1, 1, 2, 1, 1, 2, 2, 1, 1, 1, 2, 1, 2, 1, 1, 1, 1, 1, 1, 2, 1, 1, 1, 1, 1, 1, 1, 1, 2, 1, 2, 1, 1, 1, 2, 2, 1, 1, 1, 1, 1, 2, 1, 1, 1, 1, 1, 1, 1, 1, 1, 1, 1, 1, 1, 1, 1, 1, 1, 1, 1, 1, 1, 1, 1, 1, 1, 1, 1, 2, 1, 1, 1, 1, 1, 1, 1, 1, 2, 1, 2, 1, 1, 1, 1, 1, 1, 1, 2, 2, 1, 2, 1, 2, 1, 1, 1, 2, 2, 2, 2, 1, 1]\n"
     ]
    }
   ],
   "source": [
    "# Let's convert it to List\n",
    "pred_counter = list(classes)\n",
    "print(pred_counter)"
   ]
  },
  {
   "cell_type": "code",
   "execution_count": 25,
   "metadata": {},
   "outputs": [
    {
     "name": "stdout",
     "output_type": "stream",
     "text": [
      "79.1044776119403\n"
     ]
    }
   ],
   "source": [
    "# Let's check the accuracy of Normal patients\n",
    "\n",
    "from collections import Counter\n",
    "\n",
    "normal_occurance = Counter(pred_counter)[1]\n",
    "normal_pred_accuracy = (normal_occurance/len(pred_counter))*100\n",
    "\n",
    "print(normal_pred_accuracy)"
   ]
  },
  {
   "cell_type": "markdown",
   "metadata": {},
   "source": [
    "## Viral Pneumonia Prediction Accuracy"
   ]
  },
  {
   "cell_type": "code",
   "execution_count": 26,
   "metadata": {},
   "outputs": [
    {
     "name": "stdout",
     "output_type": "stream",
     "text": [
      "[2 2 2 1 2 2 2 2 2 1 2 2 2 2 2 2 2 2 2 2 1 2 2 1 1 2 2 2 1 2 2 2 2 2 1 2 1\n",
      " 2 1 1 2 1 1 1 2 1 2 2 1 2 1 2 1 1 1 1 2 1 2 2 2 2 2 2 1 2 2 1 2 2 1 2 1 2\n",
      " 2 2 2 2 1 2 2 2 2 1 2 2 1 2 2 2 1 1 1 1 2 2 2 2 2 2 1 2 2 2 2 1 2 2 1 1 2\n",
      " 1 1 2 1 1 1 2 2 2 1 2 2 2 1 1 2 2 1 2 2 2 1 2 2 1 2 2 1 2 2 1 2 1 1 1 2 1\n",
      " 2 2 1 1 2 1 2 2 2 1 2 2 1 1 1 1 1 2 1 2 2 1 1 2 2 1 1 1 1 2 2 1 2 1 2 2 2\n",
      " 1 1 2 1 2 1 2 1 1 1 0 1 1 1 2 2]\n"
     ]
    }
   ],
   "source": [
    "# image folder\n",
    "pneumonia_path = 'C:\\\\Users\\\\samfr\\\\PycharmProjects\\\\upg\\\\datasets\\\\test\\\\Viral_Pneumonia'\n",
    "# path to model\n",
    "model_path = '/Users/samfr/PycharmProjects/upg/datasets/three_classification_problem_model_solved_densenet201.h5'\n",
    "\n",
    "# dimensions of images\n",
    "img_width, img_height = 224, 224\n",
    "\n",
    "# load the trained model\n",
    "model = load_model(model_path)\n",
    "model.compile(loss='categorical_crossentropy',\n",
    "              optimizer='rmsprop',\n",
    "              metrics=['accuracy'])\n",
    "\n",
    "# load all images into a list\n",
    "images = []\n",
    "for img in os.listdir(pneumonia_path):\n",
    "    img = os.path.join(pneumonia_path, img)\n",
    "    img = image.load_img(img, target_size=(img_width, img_height))\n",
    "    img = image.img_to_array(img)\n",
    "    img = np.expand_dims(img, axis=0)\n",
    "    images.append(img)\n",
    "    \n",
    "    # stack up images list to pass for prediction\n",
    "images = np.vstack(images)\n",
    "classes = model.predict(images, batch_size=10)\n",
    "classes = np.argmax(classes,axis=1)\n",
    "print(classes)"
   ]
  },
  {
   "cell_type": "code",
   "execution_count": 27,
   "metadata": {},
   "outputs": [
    {
     "name": "stdout",
     "output_type": "stream",
     "text": [
      "[2, 2, 2, 1, 2, 2, 2, 2, 2, 1, 2, 2, 2, 2, 2, 2, 2, 2, 2, 2, 1, 2, 2, 1, 1, 2, 2, 2, 1, 2, 2, 2, 2, 2, 1, 2, 1, 2, 1, 1, 2, 1, 1, 1, 2, 1, 2, 2, 1, 2, 1, 2, 1, 1, 1, 1, 2, 1, 2, 2, 2, 2, 2, 2, 1, 2, 2, 1, 2, 2, 1, 2, 1, 2, 2, 2, 2, 2, 1, 2, 2, 2, 2, 1, 2, 2, 1, 2, 2, 2, 1, 1, 1, 1, 2, 2, 2, 2, 2, 2, 1, 2, 2, 2, 2, 1, 2, 2, 1, 1, 2, 1, 1, 2, 1, 1, 1, 2, 2, 2, 1, 2, 2, 2, 1, 1, 2, 2, 1, 2, 2, 2, 1, 2, 2, 1, 2, 2, 1, 2, 2, 1, 2, 1, 1, 1, 2, 1, 2, 2, 1, 1, 2, 1, 2, 2, 2, 1, 2, 2, 1, 1, 1, 1, 1, 2, 1, 2, 2, 1, 1, 2, 2, 1, 1, 1, 1, 2, 2, 1, 2, 1, 2, 2, 2, 1, 1, 2, 1, 2, 1, 2, 1, 1, 1, 0, 1, 1, 1, 2, 2]\n"
     ]
    }
   ],
   "source": [
    "# Let's convert it to List\n",
    "pred_counter = list(classes)\n",
    "print(pred_counter)"
   ]
  },
  {
   "cell_type": "code",
   "execution_count": 34,
   "metadata": {},
   "outputs": [
    {
     "name": "stdout",
     "output_type": "stream",
     "text": [
      "59.20398009950249\n"
     ]
    }
   ],
   "source": [
    "# Let's check the accuracy of Viral Pneumonia\n",
    "\n",
    "from collections import Counter\n",
    "\n",
    "pneumonia_occurance = Counter(pred_counter)[2]\n",
    "pneumonia_pred_accuracy = (pneumonia_occurance/len(pred_counter))*100\n",
    "\n",
    "print(pneumonia_pred_accuracy)"
   ]
  },
  {
   "cell_type": "code",
   "execution_count": null,
   "metadata": {},
   "outputs": [],
   "source": []
  }
 ],
 "metadata": {
  "kernelspec": {
   "display_name": "Python 3",
   "language": "python",
   "name": "python3"
  },
  "language_info": {
   "codemirror_mode": {
    "name": "ipython",
    "version": 3
   },
   "file_extension": ".py",
   "mimetype": "text/x-python",
   "name": "python",
   "nbconvert_exporter": "python",
   "pygments_lexer": "ipython3",
   "version": "3.7.6"
  }
 },
 "nbformat": 4,
 "nbformat_minor": 4
}
